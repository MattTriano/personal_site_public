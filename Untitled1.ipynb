{
 "cells": [
  {
   "cell_type": "code",
   "execution_count": 1,
   "metadata": {},
   "outputs": [],
   "source": [
    "import os\n",
    "import pandas as pd\n",
    "import numpy as np\n",
    "import seaborn as sns\n",
    "import matplotlib.pyplot as plt\n",
    "from IPython.core.display import display, HTML\n",
    "sns.set()\n",
    "%matplotlib inline"
   ]
  },
  {
   "cell_type": "code",
   "execution_count": 2,
   "metadata": {},
   "outputs": [
    {
     "data": {
      "text/html": [
       "<style>.container { width:100% !important; }</style>"
      ],
      "text/plain": [
       "<IPython.core.display.HTML object>"
      ]
     },
     "metadata": {},
     "output_type": "display_data"
    }
   ],
   "source": [
    "pd.options.display.max_columns = None\n",
    "display(HTML(\"<style>.container { width:100% !important; }</style>\"))\n",
    "pd.set_option('display.float_format',lambda x: '%.4f' % x)"
   ]
  },
  {
   "cell_type": "code",
   "execution_count": 4,
   "metadata": {},
   "outputs": [
    {
     "data": {
      "text/html": [
       "<div>\n",
       "<style scoped>\n",
       "    .dataframe tbody tr th:only-of-type {\n",
       "        vertical-align: middle;\n",
       "    }\n",
       "\n",
       "    .dataframe tbody tr th {\n",
       "        vertical-align: top;\n",
       "    }\n",
       "\n",
       "    .dataframe thead th {\n",
       "        text-align: right;\n",
       "    }\n",
       "</style>\n",
       "<table border=\"1\" class=\"dataframe\">\n",
       "  <thead>\n",
       "    <tr style=\"text-align: right;\">\n",
       "      <th></th>\n",
       "      <th>STATION</th>\n",
       "      <th>NAME</th>\n",
       "      <th>DATE</th>\n",
       "      <th>CDSD</th>\n",
       "      <th>DSND</th>\n",
       "      <th>DSNW</th>\n",
       "      <th>EMNT</th>\n",
       "      <th>EMSD</th>\n",
       "      <th>EMSN</th>\n",
       "      <th>EMXP</th>\n",
       "      <th>EMXT</th>\n",
       "      <th>HDSD</th>\n",
       "      <th>PRCP</th>\n",
       "      <th>SNOW</th>\n",
       "      <th>TAVG</th>\n",
       "      <th>TMAX</th>\n",
       "      <th>TMIN</th>\n",
       "    </tr>\n",
       "  </thead>\n",
       "  <tbody>\n",
       "    <tr>\n",
       "      <th>0</th>\n",
       "      <td>USC00111577</td>\n",
       "      <td>CHICAGO MIDWAY AIRPORT 3 SW, IL US</td>\n",
       "      <td>1928-03-01</td>\n",
       "      <td>nan</td>\n",
       "      <td>1.0000</td>\n",
       "      <td>2.0000</td>\n",
       "      <td>8.0000</td>\n",
       "      <td>1.0000</td>\n",
       "      <td>4.2000</td>\n",
       "      <td>0.3600</td>\n",
       "      <td>77.0000</td>\n",
       "      <td>nan</td>\n",
       "      <td>1.3900</td>\n",
       "      <td>6.0000</td>\n",
       "      <td>36.2000</td>\n",
       "      <td>44.8000</td>\n",
       "      <td>27.5000</td>\n",
       "    </tr>\n",
       "    <tr>\n",
       "      <th>1</th>\n",
       "      <td>USC00111577</td>\n",
       "      <td>CHICAGO MIDWAY AIRPORT 3 SW, IL US</td>\n",
       "      <td>1928-04-01</td>\n",
       "      <td>nan</td>\n",
       "      <td>0.0000</td>\n",
       "      <td>0.0000</td>\n",
       "      <td>21.0000</td>\n",
       "      <td>0.0000</td>\n",
       "      <td>0.6000</td>\n",
       "      <td>0.9000</td>\n",
       "      <td>74.0000</td>\n",
       "      <td>nan</td>\n",
       "      <td>2.0100</td>\n",
       "      <td>0.7000</td>\n",
       "      <td>44.0000</td>\n",
       "      <td>53.7000</td>\n",
       "      <td>34.2000</td>\n",
       "    </tr>\n",
       "    <tr>\n",
       "      <th>2</th>\n",
       "      <td>USC00111577</td>\n",
       "      <td>CHICAGO MIDWAY AIRPORT 3 SW, IL US</td>\n",
       "      <td>1928-05-01</td>\n",
       "      <td>nan</td>\n",
       "      <td>0.0000</td>\n",
       "      <td>0.0000</td>\n",
       "      <td>31.0000</td>\n",
       "      <td>0.0000</td>\n",
       "      <td>0.0000</td>\n",
       "      <td>0.7600</td>\n",
       "      <td>89.0000</td>\n",
       "      <td>nan</td>\n",
       "      <td>1.6900</td>\n",
       "      <td>0.0000</td>\n",
       "      <td>58.2000</td>\n",
       "      <td>70.1000</td>\n",
       "      <td>46.2000</td>\n",
       "    </tr>\n",
       "    <tr>\n",
       "      <th>3</th>\n",
       "      <td>USC00111577</td>\n",
       "      <td>CHICAGO MIDWAY AIRPORT 3 SW, IL US</td>\n",
       "      <td>1928-06-01</td>\n",
       "      <td>nan</td>\n",
       "      <td>0.0000</td>\n",
       "      <td>0.0000</td>\n",
       "      <td>41.0000</td>\n",
       "      <td>0.0000</td>\n",
       "      <td>0.0000</td>\n",
       "      <td>2.5600</td>\n",
       "      <td>87.0000</td>\n",
       "      <td>nan</td>\n",
       "      <td>6.6400</td>\n",
       "      <td>0.0000</td>\n",
       "      <td>63.0000</td>\n",
       "      <td>72.9000</td>\n",
       "      <td>53.0000</td>\n",
       "    </tr>\n",
       "    <tr>\n",
       "      <th>4</th>\n",
       "      <td>USC00111577</td>\n",
       "      <td>CHICAGO MIDWAY AIRPORT 3 SW, IL US</td>\n",
       "      <td>1928-11-01</td>\n",
       "      <td>nan</td>\n",
       "      <td>0.0000</td>\n",
       "      <td>0.0000</td>\n",
       "      <td>19.0000</td>\n",
       "      <td>0.0000</td>\n",
       "      <td>0.1000</td>\n",
       "      <td>1.2900</td>\n",
       "      <td>68.0000</td>\n",
       "      <td>nan</td>\n",
       "      <td>4.0600</td>\n",
       "      <td>0.1000</td>\n",
       "      <td>40.6000</td>\n",
       "      <td>47.2000</td>\n",
       "      <td>33.9000</td>\n",
       "    </tr>\n",
       "  </tbody>\n",
       "</table>\n",
       "</div>"
      ],
      "text/plain": [
       "       STATION                                NAME       DATE  CDSD   DSND  \\\n",
       "0  USC00111577  CHICAGO MIDWAY AIRPORT 3 SW, IL US 1928-03-01   nan 1.0000   \n",
       "1  USC00111577  CHICAGO MIDWAY AIRPORT 3 SW, IL US 1928-04-01   nan 0.0000   \n",
       "2  USC00111577  CHICAGO MIDWAY AIRPORT 3 SW, IL US 1928-05-01   nan 0.0000   \n",
       "3  USC00111577  CHICAGO MIDWAY AIRPORT 3 SW, IL US 1928-06-01   nan 0.0000   \n",
       "4  USC00111577  CHICAGO MIDWAY AIRPORT 3 SW, IL US 1928-11-01   nan 0.0000   \n",
       "\n",
       "    DSNW    EMNT   EMSD   EMSN   EMXP    EMXT  HDSD   PRCP   SNOW    TAVG  \\\n",
       "0 2.0000  8.0000 1.0000 4.2000 0.3600 77.0000   nan 1.3900 6.0000 36.2000   \n",
       "1 0.0000 21.0000 0.0000 0.6000 0.9000 74.0000   nan 2.0100 0.7000 44.0000   \n",
       "2 0.0000 31.0000 0.0000 0.0000 0.7600 89.0000   nan 1.6900 0.0000 58.2000   \n",
       "3 0.0000 41.0000 0.0000 0.0000 2.5600 87.0000   nan 6.6400 0.0000 63.0000   \n",
       "4 0.0000 19.0000 0.0000 0.1000 1.2900 68.0000   nan 4.0600 0.1000 40.6000   \n",
       "\n",
       "     TMAX    TMIN  \n",
       "0 44.8000 27.5000  \n",
       "1 53.7000 34.2000  \n",
       "2 70.1000 46.2000  \n",
       "3 72.9000 53.0000  \n",
       "4 47.2000 33.9000  "
      ]
     },
     "execution_count": 4,
     "metadata": {},
     "output_type": "execute_result"
    }
   ],
   "source": [
    "CSV_PATH = os.path.join('data', 'weather', 'chicago_hist.csv')\n",
    "chi = pd.read_csv(CSV_PATH, encoding='latin1', parse_dates=['DATE']) \n",
    "chi.head()"
   ]
  },
  {
   "cell_type": "code",
   "execution_count": 6,
   "metadata": {},
   "outputs": [
    {
     "data": {
      "text/html": [
       "<div>\n",
       "<style scoped>\n",
       "    .dataframe tbody tr th:only-of-type {\n",
       "        vertical-align: middle;\n",
       "    }\n",
       "\n",
       "    .dataframe tbody tr th {\n",
       "        vertical-align: top;\n",
       "    }\n",
       "\n",
       "    .dataframe thead th {\n",
       "        text-align: right;\n",
       "    }\n",
       "</style>\n",
       "<table border=\"1\" class=\"dataframe\">\n",
       "  <thead>\n",
       "    <tr style=\"text-align: right;\">\n",
       "      <th></th>\n",
       "      <th>DATE</th>\n",
       "      <th>TAVG</th>\n",
       "      <th>NAME</th>\n",
       "    </tr>\n",
       "  </thead>\n",
       "  <tbody>\n",
       "    <tr>\n",
       "      <th>0</th>\n",
       "      <td>1928-03-01</td>\n",
       "      <td>36.2000</td>\n",
       "      <td>CHICAGO MIDWAY AIRPORT 3 SW, IL US</td>\n",
       "    </tr>\n",
       "    <tr>\n",
       "      <th>1</th>\n",
       "      <td>1928-04-01</td>\n",
       "      <td>44.0000</td>\n",
       "      <td>CHICAGO MIDWAY AIRPORT 3 SW, IL US</td>\n",
       "    </tr>\n",
       "    <tr>\n",
       "      <th>2</th>\n",
       "      <td>1928-05-01</td>\n",
       "      <td>58.2000</td>\n",
       "      <td>CHICAGO MIDWAY AIRPORT 3 SW, IL US</td>\n",
       "    </tr>\n",
       "    <tr>\n",
       "      <th>3</th>\n",
       "      <td>1928-06-01</td>\n",
       "      <td>63.0000</td>\n",
       "      <td>CHICAGO MIDWAY AIRPORT 3 SW, IL US</td>\n",
       "    </tr>\n",
       "    <tr>\n",
       "      <th>4</th>\n",
       "      <td>1928-11-01</td>\n",
       "      <td>40.6000</td>\n",
       "      <td>CHICAGO MIDWAY AIRPORT 3 SW, IL US</td>\n",
       "    </tr>\n",
       "  </tbody>\n",
       "</table>\n",
       "</div>"
      ],
      "text/plain": [
       "        DATE    TAVG                                NAME\n",
       "0 1928-03-01 36.2000  CHICAGO MIDWAY AIRPORT 3 SW, IL US\n",
       "1 1928-04-01 44.0000  CHICAGO MIDWAY AIRPORT 3 SW, IL US\n",
       "2 1928-05-01 58.2000  CHICAGO MIDWAY AIRPORT 3 SW, IL US\n",
       "3 1928-06-01 63.0000  CHICAGO MIDWAY AIRPORT 3 SW, IL US\n",
       "4 1928-11-01 40.6000  CHICAGO MIDWAY AIRPORT 3 SW, IL US"
      ]
     },
     "execution_count": 6,
     "metadata": {},
     "output_type": "execute_result"
    }
   ],
   "source": [
    "temp_chi = chi[['DATE', 'TAVG', 'NAME']]\n",
    "temp_chi.head()"
   ]
  },
  {
   "cell_type": "code",
   "execution_count": 7,
   "metadata": {},
   "outputs": [
    {
     "data": {
      "text/html": [
       "<div>\n",
       "<style scoped>\n",
       "    .dataframe tbody tr th:only-of-type {\n",
       "        vertical-align: middle;\n",
       "    }\n",
       "\n",
       "    .dataframe tbody tr th {\n",
       "        vertical-align: top;\n",
       "    }\n",
       "\n",
       "    .dataframe thead tr th {\n",
       "        text-align: left;\n",
       "    }\n",
       "\n",
       "    .dataframe thead tr:last-of-type th {\n",
       "        text-align: right;\n",
       "    }\n",
       "</style>\n",
       "<table border=\"1\" class=\"dataframe\">\n",
       "  <thead>\n",
       "    <tr>\n",
       "      <th></th>\n",
       "      <th colspan=\"4\" halign=\"left\">TAVG</th>\n",
       "    </tr>\n",
       "    <tr>\n",
       "      <th>NAME</th>\n",
       "      <th>CHICAGO MIDWAY AIRPORT 3 SW, IL US</th>\n",
       "      <th>CHICAGO UNIVERSITY, IL US</th>\n",
       "      <th>CHICAGO WEATHER BUREAU CITY 2, IL US</th>\n",
       "      <th>JOLIET, IL US</th>\n",
       "    </tr>\n",
       "    <tr>\n",
       "      <th>DATE</th>\n",
       "      <th></th>\n",
       "      <th></th>\n",
       "      <th></th>\n",
       "      <th></th>\n",
       "    </tr>\n",
       "  </thead>\n",
       "  <tbody>\n",
       "    <tr>\n",
       "      <th>1893-11-01</th>\n",
       "      <td>nan</td>\n",
       "      <td>nan</td>\n",
       "      <td>nan</td>\n",
       "      <td>37.9000</td>\n",
       "    </tr>\n",
       "    <tr>\n",
       "      <th>1893-12-01</th>\n",
       "      <td>nan</td>\n",
       "      <td>nan</td>\n",
       "      <td>nan</td>\n",
       "      <td>28.5000</td>\n",
       "    </tr>\n",
       "    <tr>\n",
       "      <th>1894-01-01</th>\n",
       "      <td>nan</td>\n",
       "      <td>nan</td>\n",
       "      <td>nan</td>\n",
       "      <td>30.7000</td>\n",
       "    </tr>\n",
       "    <tr>\n",
       "      <th>1894-02-01</th>\n",
       "      <td>nan</td>\n",
       "      <td>nan</td>\n",
       "      <td>nan</td>\n",
       "      <td>24.7000</td>\n",
       "    </tr>\n",
       "    <tr>\n",
       "      <th>1894-03-01</th>\n",
       "      <td>nan</td>\n",
       "      <td>nan</td>\n",
       "      <td>nan</td>\n",
       "      <td>45.6000</td>\n",
       "    </tr>\n",
       "  </tbody>\n",
       "</table>\n",
       "</div>"
      ],
      "text/plain": [
       "                                         TAVG                            \\\n",
       "NAME       CHICAGO MIDWAY AIRPORT 3 SW, IL US CHICAGO UNIVERSITY, IL US   \n",
       "DATE                                                                      \n",
       "1893-11-01                                nan                       nan   \n",
       "1893-12-01                                nan                       nan   \n",
       "1894-01-01                                nan                       nan   \n",
       "1894-02-01                                nan                       nan   \n",
       "1894-03-01                                nan                       nan   \n",
       "\n",
       "                                                               \n",
       "NAME       CHICAGO WEATHER BUREAU CITY 2, IL US JOLIET, IL US  \n",
       "DATE                                                           \n",
       "1893-11-01                                  nan       37.9000  \n",
       "1893-12-01                                  nan       28.5000  \n",
       "1894-01-01                                  nan       30.7000  \n",
       "1894-02-01                                  nan       24.7000  \n",
       "1894-03-01                                  nan       45.6000  "
      ]
     },
     "execution_count": 7,
     "metadata": {},
     "output_type": "execute_result"
    }
   ],
   "source": [
    "temp_chi = temp_chi.pivot(index='DATE', columns='NAME')\n",
    "temp_chi.head()"
   ]
  },
  {
   "cell_type": "markdown",
   "metadata": {},
   "source": [
    "I pulled in data from 4 separate weather stations around Chicago. Chicago is not large enough that there will be massive monthly temperature differences between different weather stations in the city, and all weather stations in the NOAA database are reputable (ie calibrate their instruments, so same-year comparisons should have the same accuracy, and measurements shouldn't be off by more than 1 degree F."
   ]
  },
  {
   "cell_type": "code",
   "execution_count": 9,
   "metadata": {},
   "outputs": [],
   "source": [
    "temp_chi = temp_chi.mean(axis=1)"
   ]
  },
  {
   "cell_type": "code",
   "execution_count": 10,
   "metadata": {},
   "outputs": [
    {
     "data": {
      "text/plain": [
       "DATE\n",
       "1893-11-01   37.9000\n",
       "1893-12-01   28.5000\n",
       "1894-01-01   30.7000\n",
       "1894-02-01   24.7000\n",
       "1894-03-01   45.6000\n",
       "dtype: float64"
      ]
     },
     "execution_count": 10,
     "metadata": {},
     "output_type": "execute_result"
    }
   ],
   "source": [
    "temp_chi.head()"
   ]
  },
  {
   "cell_type": "code",
   "execution_count": null,
   "metadata": {},
   "outputs": [],
   "source": []
  },
  {
   "cell_type": "code",
   "execution_count": null,
   "metadata": {},
   "outputs": [],
   "source": []
  },
  {
   "cell_type": "code",
   "execution_count": null,
   "metadata": {},
   "outputs": [],
   "source": []
  },
  {
   "cell_type": "code",
   "execution_count": null,
   "metadata": {},
   "outputs": [],
   "source": []
  },
  {
   "cell_type": "code",
   "execution_count": null,
   "metadata": {},
   "outputs": [],
   "source": []
  },
  {
   "cell_type": "code",
   "execution_count": null,
   "metadata": {},
   "outputs": [],
   "source": []
  },
  {
   "cell_type": "code",
   "execution_count": null,
   "metadata": {},
   "outputs": [],
   "source": []
  },
  {
   "cell_type": "code",
   "execution_count": null,
   "metadata": {},
   "outputs": [],
   "source": []
  },
  {
   "cell_type": "code",
   "execution_count": null,
   "metadata": {},
   "outputs": [],
   "source": []
  },
  {
   "cell_type": "code",
   "execution_count": null,
   "metadata": {},
   "outputs": [],
   "source": []
  }
 ],
 "metadata": {
  "kernelspec": {
   "display_name": "Python [conda env:py36]",
   "language": "python",
   "name": "conda-env-py36-py"
  },
  "language_info": {
   "codemirror_mode": {
    "name": "ipython",
    "version": 3
   },
   "file_extension": ".py",
   "mimetype": "text/x-python",
   "name": "python",
   "nbconvert_exporter": "python",
   "pygments_lexer": "ipython3",
   "version": "3.6.4"
  }
 },
 "nbformat": 4,
 "nbformat_minor": 2
}
