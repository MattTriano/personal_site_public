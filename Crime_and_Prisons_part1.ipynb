{
 "cells": [
  {
   "cell_type": "markdown",
   "metadata": {},
   "source": [
    "## Table of Contents"
   ]
  },
  {
   "cell_type": "markdown",
   "metadata": {},
   "source": [
    "<div style=\"margin-top: 20px\">\n",
    "\n",
    "1. [Exploration in Criminal Justice and Corrections Data](#0)<br>\n",
    "2. [Datasets](#1)<br>\n",
    "3. [Total Imprisonment Rates](#2)<br>\n",
    "    3a. [Observations](#3)<br>\n",
    "4. [Imprisonment by Race](#4)<br>\n",
    "    4a. [Observations](#5)<br>\n",
    "5. [Imprisonment by Gender](#6)<br>\n",
    "    5a. [Observations](#7)<br>\n",
    "6. [To Be Continued](#8)<br>\n",
    "\n",
    "And continued on [Part 2](https://nbviewer.jupyter.org/github/MattTriano/personal_site_public/blob/master/Crime_and_Prisons_part2.ipynb)\n",
    "\n",
    "</div>\n",
    "<hr>"
   ]
  },
  {
   "cell_type": "markdown",
   "metadata": {},
   "source": [
    "## Exploration in Criminal Justice and Corrections Data <a id=\"0\"></a>\n",
    "\n",
    "I've repeatedly read the statistic that the US makes up around 4% of the global population, but makes up more than 20% of the prison population. Well defined questions are crucial tools for making sense of raw data, and this massive asymmetry is provokes some important questions, such as those listed below."
   ]
  },
  {
   "cell_type": "markdown",
   "metadata": {},
   "source": [
    "* Why isn't our prison population proportional to our regular population? \n",
    "  * Do other countries have fewer criminals? \n",
    "  * Do we have a drastically different approach to criminal justice than the rest of the world?\n",
    "  * Are our prison sentances just much longer?\n",
    "* What are the most common crimes? \n",
    "  * How many people are in for those crimes?\n",
    "* How many people enter the prison system each month?\n",
    "  * How many exit?\n",
    "* Recidivism\n",
    "\n",
    "    * How many prisoners have been to prison at least once before?\n",
    "    * What is the recidivism rate for 1st time prisoners who served in public prisons?\n",
    "    * And for private prisons?\n",
    "    * Which prisons have the lowest recidivism rates?"
   ]
  },
  {
   "cell_type": "markdown",
   "metadata": {},
   "source": [
    "## Datasets <a id=\"1\"></a>\n",
    "With some questions in hand, I can start trying to gather data that could shed light on the situation. I may not be able to get data with the resolution needed to answer some of these questions (eg I may not be able to find data broken down by month).\n",
    "\n",
    "The government makes some data publicly available. While government data is rarely current, often involves a bit of cleanup, and always involves hunting through old government sites, it's the only source for much of this extremely valuable information. \n",
    "From the Bureau of Justice Statistics, I found a government project called the [Prisoner Series](https://www.bjs.gov/index.cfm?ty=pbse&sid=40) and I downloaded the [most recent data](http://www.bjs.gov/index.cfm?ty=pbdetail&iid=6187)."
   ]
  },
  {
   "cell_type": "code",
   "execution_count": null,
   "metadata": {},
   "outputs": [],
   "source": [
    "import pandas as pd\n",
    "import numpy as np\n",
    "import seaborn as sns\n",
    "import matplotlib.pyplot as plt\n",
    "# import matplotlib.dates as mdates\n",
    "import matplotlib.ticker as ticker\n",
    "from IPython.core.display import display, HTML\n",
    "import os\n",
    "%matplotlib inline"
   ]
  },
  {
   "cell_type": "code",
   "execution_count": null,
   "metadata": {},
   "outputs": [],
   "source": [
    "# Notebook Styling \n",
    "# pd.options.display.max_columns = None\n",
    "# display(HTML(\"<style>.container { width:100% !important; }</style>\"))\n",
    "pd.set_option('display.float_format',lambda x: '%.5f' % x)\n",
    "plt.rcParams['figure.figsize'] = 10,10"
   ]
  },
  {
   "cell_type": "markdown",
   "metadata": {},
   "source": [
    "## Total Imprisonment Rates (Table p16f01) <a id=\"2\"></a>\n",
    "The values in the by-race dataset are [per 100k population]."
   ]
  },
  {
   "cell_type": "code",
   "execution_count": null,
   "metadata": {},
   "outputs": [],
   "source": [
    "CSV_PATH = os.path.join('data', 'prison', 'p16f01.csv')\n",
    "total_df = pd.read_csv(CSV_PATH, encoding='latin1', header=12, index_col='Year', parse_dates=['Year'])\n",
    "total_df.dropna(inplace=True)\n",
    "total_df.index = total_df.index.values.astype(int)"
   ]
  },
  {
   "cell_type": "code",
   "execution_count": null,
   "metadata": {},
   "outputs": [],
   "source": [
    "total_df.head()"
   ]
  },
  {
   "cell_type": "code",
   "execution_count": null,
   "metadata": {},
   "outputs": [],
   "source": [
    "with sns.axes_style(\"whitegrid\"):\n",
    "    fig, ax = plt.subplots(figsize=(10,7))\n",
    "    ax.plot(total_df['All ages'])\n",
    "    ax.plot(total_df['Age 18 or older'])\n",
    "    ax.set_title('Total Imprisonment Rates (table: p16f01)')\n",
    "    ax.set_xlabel('Year')\n",
    "    ax.set_ylabel('People imprisoned (per relevant 100k US population)')\n",
    "    ax.legend()\n",
    "    ax.set_ylim([0, 1.1*max([total_df['All ages'].max(), \n",
    "                             total_df['Age 18 or older'].max()])])"
   ]
  },
  {
   "cell_type": "markdown",
   "metadata": {},
   "source": [
    "## Observations <a id=\"3\"></a>\n",
    "The imprisonment rate normalized to the entire population of US residents is lower than the imprisonment rate normalized to the population of US residents that are 18 or older. This indicates that the imprisonment rate for people under age 18 is much lower than for people 18 or older. That fits with my intuition.\n",
    "\n",
    "We also see that the imprisonment rate climbs steadily from 1980 up through 1999, dips, and peaks around 2007-2008, at which point it starts trending down. \n",
    "In 1978, 183 people were in prison per every 100k US residents 18 or older. In 2007, 670 people were in prison per every 100k US residents 18 or older. That's a 266% increase in the imprisonment rate over that 29 year span. That's huge.\n",
    "\n",
    "### New Questions:\n",
    "* What was responsible for the increase in the rate of imprisonment? What was responsible for the decrease?\n",
    "    * Was it proportional to the actual crime rates? \n",
    "    * Was it a product of different enforcement policies?\n",
    "    \n",
    "To answer these new questions, we will probably have to look at other sets of data."
   ]
  },
  {
   "cell_type": "markdown",
   "metadata": {},
   "source": [
    "## Imprisonment by Race (Table p16f02) <a id=\"4\"></a>\n",
    "Imprisonment rate of sentenced prisoners under the jurisdiction of state or federal correctional authorities, per 100,000 U.S. residents age 18 or older, by race and Hispanic origin, December 31, 2006–2016"
   ]
  },
  {
   "cell_type": "code",
   "execution_count": null,
   "metadata": {},
   "outputs": [],
   "source": [
    "CSV_PATH = os.path.join('data', 'prison', 'p16f02.csv')\n",
    "race_df = pd.read_csv(CSV_PATH, encoding='latin1', header=12)\n",
    "race_df.dropna(inplace=True)\n",
    "race_df.rename(columns={'Unnamed: 0': 'Year'}, inplace=True)\n",
    "race_df.set_index('Year', inplace=True)\n",
    "race_df"
   ]
  },
  {
   "cell_type": "code",
   "execution_count": null,
   "metadata": {},
   "outputs": [],
   "source": [
    "with sns.axes_style(\"whitegrid\"):\n",
    "    fig, ax = plt.subplots(figsize=(10,7))\n",
    "    ax.plot(race_df['White/*'])\n",
    "    ax.plot(race_df['Black/*'])\n",
    "    ax.plot(race_df['Hispanic'])\n",
    "    ax.set_title('Imprisonment Rates by Race (table: p16f02)')\n",
    "    ax.set_xlabel('Year')\n",
    "    ax.set_ylabel('People imprisoned (per 100k US population)')\n",
    "    ax.legend()\n",
    "    ax.set_ylim([0, 1.1*max([race_df['White/*'].max(), \n",
    "                         race_df['Black/*'].max(), \n",
    "                         race_df['Hispanic'].max()])])"
   ]
  },
  {
   "cell_type": "code",
   "execution_count": null,
   "metadata": {},
   "outputs": [],
   "source": [
    "print('{:>8s} imprisonment per 100k US pop: max: {}, min: {}'\n",
    "      .format('White/*', race_df['White/*'].max(), race_df['White/*'].min()))\n",
    "print('{:>8s} imprisonment per 100k US pop: max: {}, min: {}'\n",
    "      .format('Black/*', race_df['Black/*'].max(), race_df['Black/*'].min()))\n",
    "print('{:>8s} imprisonment per 100k US pop: max: {}, min: {}'\n",
    "      .format('Hispanic', race_df['Hispanic'].max(), race_df['Hispanic'].min()))\n",
    "print('*: non-Hispanic')"
   ]
  },
  {
   "cell_type": "markdown",
   "metadata": {},
   "source": [
    "## Observations <a id=\"5\"></a>\n",
    "This is very striking. We see that there is a very significant difference in the rates of white (non-Hispanic), black (non-Hispanic), and Hispanic imprisonment. We also see that rates for all three have dropped over this time period.\n",
    "\n",
    "### New Questions:\n",
    "* What is responsible for this difference in imprisonment rates for different demographic groups?\n",
    "\n",
    "Based on prior research, I suspect that this is the result of many systemic factors, but let's continue exploring the data."
   ]
  },
  {
   "cell_type": "markdown",
   "metadata": {},
   "source": [
    "## Breakdown by Gender (Table p16t01) <a id=\"6\"></a>"
   ]
  },
  {
   "cell_type": "code",
   "execution_count": null,
   "metadata": {},
   "outputs": [],
   "source": [
    "CSV_PATH = os.path.join('data', 'prison', 'p16t01.csv')\n",
    "sex_df = pd.read_csv(CSV_PATH, encoding='latin1', header=11, thousands=r',')\n",
    "sex_df.dropna(inplace=True, thresh=3)\n",
    "sex_df.dropna(inplace=True, axis=1, thresh=3)\n",
    "sex_df.dropna(inplace=True)\n",
    "fix = lambda x: x.split('/')[0]\n",
    "sex_df['Year'] = sex_df['Year'].apply(fix)\n",
    "sex_df['Year'] = sex_df['Year'].astype(int)\n",
    "sex_df.set_index('Year', inplace=True)\n",
    "sex_df"
   ]
  },
  {
   "cell_type": "code",
   "execution_count": null,
   "metadata": {},
   "outputs": [],
   "source": [
    "@ticker.FuncFormatter\n",
    "def y_formatter(x, pos):\n",
    "    return '{:4.0f}'.format(x/1000)"
   ]
  },
  {
   "cell_type": "code",
   "execution_count": null,
   "metadata": {
    "scrolled": false
   },
   "outputs": [],
   "source": [
    "with sns.axes_style(\"whitegrid\"):\n",
    "    fig, ax = plt.subplots(figsize=(10,7))\n",
    "    ax.plot(sex_df['Male'])\n",
    "    ax.plot(sex_df['Female'])\n",
    "    ax.set_title('Imprisonment Counts by Gender (table: p16t01)')\n",
    "    ax.set_xlabel('Year')\n",
    "    ax.yaxis.set_major_formatter(y_formatter)\n",
    "    ax.set_ylabel('People Imprisoned [in thousands of people]')\n",
    "    ax.legend()\n",
    "    ax.set_ylim([0, 1.1*max(sex_df['Male'].max(),\n",
    "                            sex_df['Female'].max())])"
   ]
  },
  {
   "cell_type": "markdown",
   "metadata": {},
   "source": [
    "## Observations <a id=\"7\"></a>\n",
    "\n",
    "The first thing that I notice is that the number of men in prison is much higher than the number of females imprisoned. Per the chart below, over the entire span of the data set (2006 to 2016), there are at least 12 men in prison for each woman in prison. This is a massive asymmetry. It doesn't feel very controversial, but should it? According to the [2010 US Census](https://www.census.gov/prod/cen2010/briefs/c2010br-03.pdf), the US population  is 50.8% female and 49.2% male. \n",
    "\n",
    "### New Questions\n",
    "\n",
    "* Why are men so much more likely to be in prison?\n",
    "    * What are the relevant differences between men and women?\n",
    "    * What is the gender breakdown of crimes?"
   ]
  },
  {
   "cell_type": "code",
   "execution_count": null,
   "metadata": {},
   "outputs": [],
   "source": [
    "sex_df['m_f_ratio'] = sex_df['Male'] / sex_df['Female']\n",
    "with sns.axes_style(\"whitegrid\"):\n",
    "    fig, ax = plt.subplots(figsize=(7,5))\n",
    "    ax.plot(sex_df['m_f_ratio'])\n",
    "    ax.set_title('Male to Female Imprisonment Ratio (table: p16t01)')\n",
    "    ax.set_xlabel('Year')\n",
    "    ax.set_ylabel('Average Number of Males imprisoned per Female')\n",
    "    ax.legend()\n",
    "    ax.set_ylim([0, 1.1*sex_df['m_f_ratio'].max()])"
   ]
  },
  {
   "cell_type": "code",
   "execution_count": null,
   "metadata": {},
   "outputs": [],
   "source": [
    "with sns.axes_style(\"whitegrid\"):\n",
    "    fig, ax = plt.subplots(figsize=(10,7))\n",
    "    ax.plot(sex_df['Federal/a'])\n",
    "    ax.plot(sex_df['State'])\n",
    "    ax.set_title('Imprisonment Counts in State and Federal Prisons (table: p16t01)')\n",
    "    ax.set_xlabel('Year')\n",
    "    ax.yaxis.set_major_formatter(y_formatter)\n",
    "    ax.set_ylabel('People Imprisoned [in thousands of people]')\n",
    "    ax.legend()\n",
    "    ax.set_ylim([0, 1.1*max(sex_df['Federal/a'].max(),\n",
    "                            sex_df['State'].max())])"
   ]
  },
  {
   "cell_type": "markdown",
   "metadata": {},
   "source": [
    "### Observations\n",
    "\n",
    "Far more people are in State prisons than are in Federal prisons. That isn't very controversial and at this level, I won't dig much deeper. It may be interesting to dig further into imprisonment counts broken down by state."
   ]
  },
  {
   "cell_type": "markdown",
   "metadata": {},
   "source": [
    "# To Be Continued <a id=\"8\"></a>\n",
    "\n",
    "There are still 20 more tables that I haven't looked at yet, but so far, we've seen\n",
    "* The imprisonment rates increased by just over 266% between 1978 and 2007.\n",
    "* Black people are imprisoned at a far higher rate than either Hispanic people or non-Hispanic white people.\n",
    "* Hispanic people are imprisoned at a far higher rate than non-Hispanic white people.\n",
    "* Far more men are imprisoned than women.\n",
    "* Far more people are in state prisons than in federal prisons. \n",
    "\n",
    "Continued in [the next notebook](https://nbviewer.jupyter.org/github/MattTriano/personal_site_public/blob/master/Crime_and_Prisons_part2.ipynb)."
   ]
  }
 ],
 "metadata": {
  "kernelspec": {
   "display_name": "Python [conda env:py36]",
   "language": "python",
   "name": "conda-env-py36-py"
  },
  "language_info": {
   "codemirror_mode": {
    "name": "ipython",
    "version": 3
   },
   "file_extension": ".py",
   "mimetype": "text/x-python",
   "name": "python",
   "nbconvert_exporter": "python",
   "pygments_lexer": "ipython3",
   "version": "3.6.4"
  }
 },
 "nbformat": 4,
 "nbformat_minor": 2
}
