{
 "cells": [
  {
   "cell_type": "code",
   "execution_count": 1,
   "metadata": {},
   "outputs": [],
   "source": [
    "import pandas as pd\n",
    "import numpy as np\n",
    "import seaborn as sns\n",
    "import matplotlib.pyplot as plt\n",
    "import matplotlib.ticker as ticker\n",
    "from IPython.core.display import display, HTML\n",
    "import os\n",
    "%matplotlib inline"
   ]
  },
  {
   "cell_type": "code",
   "execution_count": 2,
   "metadata": {},
   "outputs": [
    {
     "data": {
      "text/html": [
       "<style>.container { width:100% !important; }</style>"
      ],
      "text/plain": [
       "<IPython.core.display.HTML object>"
      ]
     },
     "metadata": {},
     "output_type": "display_data"
    }
   ],
   "source": [
    "# Notebook Styling \n",
    "sns.set()\n",
    "pd.options.display.max_columns = None\n",
    "display(HTML(\"<style>.container { width:100% !important; }</style>\"))\n",
    "pd.set_option('display.float_format',lambda x: '%.5f' % x)"
   ]
  },
  {
   "cell_type": "code",
   "execution_count": 3,
   "metadata": {},
   "outputs": [],
   "source": [
    "from sklearn.pipeline import Pipeline\n",
    "from sklearn.tree import export_graphviz\n",
    "import graphviz\n",
    "# Ensembles\n",
    "from sklearn.ensemble import RandomForestClassifier\n",
    "from sklearn.ensemble import AdaBoostClassifier\n",
    "from sklearn.model_selection import GridSearchCV, train_test_split, RepeatedStratifiedKFold\n",
    "from sklearn.metrics import confusion_matrix, classification_report"
   ]
  },
  {
   "cell_type": "code",
   "execution_count": 5,
   "metadata": {},
   "outputs": [],
   "source": [
    "g_cmap = sns.light_palette('seagreen', n_colors=10, as_cmap=True)\n",
    "\n",
    "def param_heat_mapper(ax_, df_, ind_col, val_col, col_col, base_clfname, cmap=g_cmap):\n",
    "    '''Formats a heatmap of model performance given two hyperparameters\n",
    "    \n",
    "    Args:\n",
    "        ax_:                a matplotlib axes object to plot to\n",
    "        df_:                a Pandas DataFrame containing results from GridSearch in \n",
    "                              a tidy format where column names = parameter names\n",
    "        ind_col_, col_col_: a string contaning the name of the feature to map\n",
    "        val_col:            a string contining the name of the value column to map\n",
    "        base_clfname:       a string containing a title prefix\n",
    "    '''\n",
    "    logit_piv = df_.pivot(index=ind_col, values=val_col, columns=col_col)\n",
    "    title_ = base_clfname + ' Params: ' + ind_col + ' and ' + col_col\n",
    "    with plt.style.context('seaborn-whitegrid'):\n",
    "        sns.heatmap(logit_piv, linewidths=0.0, annot=True, fmt='0.3f',\n",
    "                    ax=ax_, cmap=cmap, robust=True, annot_kws={'size':16})\n",
    "        ax_.set_title(title_, fontsize=14)\n",
    "        ax_.set_xlabel('Param: ' + col_col, fontsize=14)\n",
    "        ax_.set_ylabel('Param: ' + ind_col, fontsize=14)\n",
    "        \n",
    "def train_test_param_map(x_var_, y_var_, map_df_):\n",
    "    '''Prints two heatmaps showing model performance for different hyperparameter combinations.\n",
    "    \n",
    "    Args:\n",
    "        x_var_, y_var_:   strings containing the names of the parameters to be mapped\n",
    "        map_df_:          a Pandas DataFrame containing results from GridSearch in a \n",
    "                            tidy format where column names = parameter names\n",
    "    '''\n",
    "    with plt.style.context('seaborn-whitegrid'):\n",
    "        fig, ax = plt.subplots(nrows=1, ncols=2, sharex=False, figsize=(14,6))\n",
    "        param_heat_mapper(ax[0], map_df_, y_var_, 'mean_train_score', x_var_, '[Training_Data]')\n",
    "        param_heat_mapper(ax[1], map_df_, y_var_, 'mean_test_score', x_var_, '[Testing_Data]')"
   ]
  },
  {
   "cell_type": "markdown",
   "metadata": {},
   "source": [
    "# The Data\n",
    "\n",
    "This data was supplied by [FiveThirtyEight](https://github.com/fivethirtyeight/data/tree/master/primary-candidates-2018)."
   ]
  },
  {
   "cell_type": "code",
   "execution_count": 6,
   "metadata": {},
   "outputs": [
    {
     "data": {
      "text/html": [
       "<div>\n",
       "<style scoped>\n",
       "    .dataframe tbody tr th:only-of-type {\n",
       "        vertical-align: middle;\n",
       "    }\n",
       "\n",
       "    .dataframe tbody tr th {\n",
       "        vertical-align: top;\n",
       "    }\n",
       "\n",
       "    .dataframe thead th {\n",
       "        text-align: right;\n",
       "    }\n",
       "</style>\n",
       "<table border=\"1\" class=\"dataframe\">\n",
       "  <thead>\n",
       "    <tr style=\"text-align: right;\">\n",
       "      <th></th>\n",
       "      <th>Candidate</th>\n",
       "      <th>State</th>\n",
       "      <th>District</th>\n",
       "      <th>Office Type</th>\n",
       "      <th>Race Type</th>\n",
       "      <th>Race Primary Election Date</th>\n",
       "      <th>Primary Status</th>\n",
       "      <th>Primary Runoff Status</th>\n",
       "      <th>General Status</th>\n",
       "      <th>Gender</th>\n",
       "      <th>Partisan Lean</th>\n",
       "      <th>Primary %</th>\n",
       "      <th>Won Primary</th>\n",
       "      <th>Race</th>\n",
       "      <th>Veteran?</th>\n",
       "      <th>LGBTQ?</th>\n",
       "      <th>Elected Official?</th>\n",
       "      <th>Self-Funder?</th>\n",
       "      <th>STEM?</th>\n",
       "      <th>Obama Alum?</th>\n",
       "    </tr>\n",
       "  </thead>\n",
       "  <tbody>\n",
       "    <tr>\n",
       "      <th>0</th>\n",
       "      <td>Anthony White (Alabama)</td>\n",
       "      <td>AL</td>\n",
       "      <td>Governor of Alabama</td>\n",
       "      <td>Governor</td>\n",
       "      <td>Regular</td>\n",
       "      <td>2018-06-05</td>\n",
       "      <td>Lost</td>\n",
       "      <td>None</td>\n",
       "      <td>None</td>\n",
       "      <td>Male</td>\n",
       "      <td>-28.88000</td>\n",
       "      <td>3.42000</td>\n",
       "      <td>No</td>\n",
       "      <td>Nonwhite</td>\n",
       "      <td>Yes</td>\n",
       "      <td>No</td>\n",
       "      <td>No</td>\n",
       "      <td>No</td>\n",
       "      <td>No</td>\n",
       "      <td>No</td>\n",
       "    </tr>\n",
       "    <tr>\n",
       "      <th>1</th>\n",
       "      <td>Christopher Countryman</td>\n",
       "      <td>AL</td>\n",
       "      <td>Governor of Alabama</td>\n",
       "      <td>Governor</td>\n",
       "      <td>Regular</td>\n",
       "      <td>2018-06-05</td>\n",
       "      <td>Lost</td>\n",
       "      <td>None</td>\n",
       "      <td>None</td>\n",
       "      <td>Male</td>\n",
       "      <td>-28.88000</td>\n",
       "      <td>1.74000</td>\n",
       "      <td>No</td>\n",
       "      <td>White</td>\n",
       "      <td>No</td>\n",
       "      <td>Yes</td>\n",
       "      <td>No</td>\n",
       "      <td>No</td>\n",
       "      <td>No</td>\n",
       "      <td>No</td>\n",
       "    </tr>\n",
       "    <tr>\n",
       "      <th>2</th>\n",
       "      <td>Doug \"New Blue\" Smith</td>\n",
       "      <td>AL</td>\n",
       "      <td>Governor of Alabama</td>\n",
       "      <td>Governor</td>\n",
       "      <td>Regular</td>\n",
       "      <td>2018-06-05</td>\n",
       "      <td>Lost</td>\n",
       "      <td>None</td>\n",
       "      <td>None</td>\n",
       "      <td>Male</td>\n",
       "      <td>-28.88000</td>\n",
       "      <td>3.27000</td>\n",
       "      <td>No</td>\n",
       "      <td>White</td>\n",
       "      <td>Yes</td>\n",
       "      <td>No</td>\n",
       "      <td>No</td>\n",
       "      <td>No</td>\n",
       "      <td>No</td>\n",
       "      <td>No</td>\n",
       "    </tr>\n",
       "    <tr>\n",
       "      <th>3</th>\n",
       "      <td>James C. Fields</td>\n",
       "      <td>AL</td>\n",
       "      <td>Governor of Alabama</td>\n",
       "      <td>Governor</td>\n",
       "      <td>Regular</td>\n",
       "      <td>2018-06-05</td>\n",
       "      <td>Lost</td>\n",
       "      <td>None</td>\n",
       "      <td>None</td>\n",
       "      <td>Male</td>\n",
       "      <td>-28.88000</td>\n",
       "      <td>8.00000</td>\n",
       "      <td>No</td>\n",
       "      <td>Nonwhite</td>\n",
       "      <td>Yes</td>\n",
       "      <td>No</td>\n",
       "      <td>Yes</td>\n",
       "      <td>No</td>\n",
       "      <td>No</td>\n",
       "      <td>No</td>\n",
       "    </tr>\n",
       "    <tr>\n",
       "      <th>4</th>\n",
       "      <td>Sue Bell Cobb</td>\n",
       "      <td>AL</td>\n",
       "      <td>Governor of Alabama</td>\n",
       "      <td>Governor</td>\n",
       "      <td>Regular</td>\n",
       "      <td>2018-06-05</td>\n",
       "      <td>Lost</td>\n",
       "      <td>None</td>\n",
       "      <td>None</td>\n",
       "      <td>Female</td>\n",
       "      <td>-28.88000</td>\n",
       "      <td>28.98000</td>\n",
       "      <td>No</td>\n",
       "      <td>White</td>\n",
       "      <td>No</td>\n",
       "      <td>No</td>\n",
       "      <td>Yes</td>\n",
       "      <td>No</td>\n",
       "      <td>No</td>\n",
       "      <td>No</td>\n",
       "    </tr>\n",
       "  </tbody>\n",
       "</table>\n",
       "</div>"
      ],
      "text/plain": [
       "                 Candidate State             District Office Type Race Type  \\\n",
       "0  Anthony White (Alabama)    AL  Governor of Alabama    Governor   Regular   \n",
       "1   Christopher Countryman    AL  Governor of Alabama    Governor   Regular   \n",
       "2    Doug \"New Blue\" Smith    AL  Governor of Alabama    Governor   Regular   \n",
       "3          James C. Fields    AL  Governor of Alabama    Governor   Regular   \n",
       "4            Sue Bell Cobb    AL  Governor of Alabama    Governor   Regular   \n",
       "\n",
       "  Race Primary Election Date Primary Status Primary Runoff Status  \\\n",
       "0                 2018-06-05           Lost                  None   \n",
       "1                 2018-06-05           Lost                  None   \n",
       "2                 2018-06-05           Lost                  None   \n",
       "3                 2018-06-05           Lost                  None   \n",
       "4                 2018-06-05           Lost                  None   \n",
       "\n",
       "  General Status  Gender  Partisan Lean  Primary % Won Primary      Race  \\\n",
       "0           None    Male      -28.88000    3.42000          No  Nonwhite   \n",
       "1           None    Male      -28.88000    1.74000          No     White   \n",
       "2           None    Male      -28.88000    3.27000          No     White   \n",
       "3           None    Male      -28.88000    8.00000          No  Nonwhite   \n",
       "4           None  Female      -28.88000   28.98000          No     White   \n",
       "\n",
       "  Veteran? LGBTQ? Elected Official? Self-Funder? STEM? Obama Alum?  \n",
       "0      Yes     No                No           No    No          No  \n",
       "1       No    Yes                No           No    No          No  \n",
       "2      Yes     No                No           No    No          No  \n",
       "3      Yes     No               Yes           No    No          No  \n",
       "4       No     No               Yes           No    No          No  "
      ]
     },
     "execution_count": 6,
     "metadata": {},
     "output_type": "execute_result"
    }
   ],
   "source": [
    "CSV_PATH = os.path.join('data', 'fivethirtyeight', 'dem_candidates_2018_prim.csv')\n",
    "df = pd.read_csv(CSV_PATH, encoding='latin1', parse_dates=['Race Primary Election Date'])\n",
    "df.head()"
   ]
  },
  {
   "cell_type": "code",
   "execution_count": 7,
   "metadata": {},
   "outputs": [
    {
     "data": {
      "text/plain": [
       "0"
      ]
     },
     "execution_count": 7,
     "metadata": {},
     "output_type": "execute_result"
    }
   ],
   "source": [
    "# is all of the data for completed races?\n",
    "sum(df['Race Primary Election Date'] > pd.datetime.now())"
   ]
  },
  {
   "cell_type": "markdown",
   "metadata": {},
   "source": [
    "From this, we see that all of the included primaries have already occurred (none of them happened after today)."
   ]
  },
  {
   "cell_type": "code",
   "execution_count": 8,
   "metadata": {},
   "outputs": [
    {
     "name": "stdout",
     "output_type": "stream",
     "text": [
      "<class 'pandas.core.frame.DataFrame'>\n",
      "RangeIndex: 811 entries, 0 to 810\n",
      "Data columns (total 20 columns):\n",
      "Candidate                     811 non-null object\n",
      "State                         811 non-null object\n",
      "District                      811 non-null object\n",
      "Office Type                   811 non-null object\n",
      "Race Type                     811 non-null object\n",
      "Race Primary Election Date    811 non-null datetime64[ns]\n",
      "Primary Status                807 non-null object\n",
      "Primary Runoff Status         811 non-null object\n",
      "General Status                807 non-null object\n",
      "Gender                        811 non-null object\n",
      "Partisan Lean                 811 non-null float64\n",
      "Primary %                     801 non-null float64\n",
      "Won Primary                   785 non-null object\n",
      "Race                          655 non-null object\n",
      "Veteran?                      800 non-null object\n",
      "LGBTQ?                        800 non-null object\n",
      "Elected Official?             800 non-null object\n",
      "Self-Funder?                  811 non-null object\n",
      "STEM?                         800 non-null object\n",
      "Obama Alum?                   810 non-null object\n",
      "dtypes: datetime64[ns](1), float64(2), object(17)\n",
      "memory usage: 126.8+ KB\n"
     ]
    }
   ],
   "source": [
    "df.info()"
   ]
  },
  {
   "cell_type": "markdown",
   "metadata": {},
   "source": [
    "From the data info printout above, we see that the data set has 811 entries, and some features have fewer than 811 non-null entries, meaning those features have missing data. We also see that most features have the 'object' datatype, which we'll have to inspect. From the names and the table above, we see that most of these 'object' features are categorical features, which we can represent with a much smaller datatype (which allows algorithms to process the data faster)."
   ]
  },
  {
   "cell_type": "code",
   "execution_count": 9,
   "metadata": {
    "scrolled": false
   },
   "outputs": [
    {
     "name": "stdout",
     "output_type": "stream",
     "text": [
      "Feature:      Office Type     ; # of Unique Vals: 3;  Unique Values: ['Governor' 'Representative' 'Senator']\n",
      "Feature:       Race Type      ; # of Unique Vals: 2;  Unique Values: ['Regular' 'Special']\n",
      "Feature:    Primary Status    ; # of Unique Vals: 3;  Unique Values: ['Lost' 'Advanced' nan]\n",
      "Feature: Primary Runoff Status; # of Unique Vals: 4;  Unique Values: ['None' 'Lost' 'Advanced' 'On the Ballot']\n",
      "Feature:    General Status    ; # of Unique Vals: 3;  Unique Values: ['None' 'On the Ballot' nan]\n",
      "Feature:        Gender        ; # of Unique Vals: 2;  Unique Values: ['Male' 'Female']\n",
      "Feature:      Won Primary     ; # of Unique Vals: 3;  Unique Values: ['No' 'Yes' nan]\n",
      "Feature:         Race         ; # of Unique Vals: 3;  Unique Values: ['Nonwhite' 'White' nan]\n",
      "Feature:       Veteran?       ; # of Unique Vals: 3;  Unique Values: ['Yes' 'No' nan]\n",
      "Feature:        LGBTQ?        ; # of Unique Vals: 3;  Unique Values: ['No' 'Yes' nan]\n",
      "Feature:   Elected Official?  ; # of Unique Vals: 3;  Unique Values: ['No' 'Yes' nan]\n",
      "Feature:     Self-Funder?     ; # of Unique Vals: 2;  Unique Values: ['No' 'Yes']\n",
      "Feature:         STEM?        ; # of Unique Vals: 3;  Unique Values: ['No' 'Yes' nan]\n",
      "Feature:      Obama Alum?     ; # of Unique Vals: 3;  Unique Values: ['No' 'Yes' nan]\n"
     ]
    }
   ],
   "source": [
    "cols = ['Office Type', 'Race Type', 'Primary Status', 'Primary Runoff Status',\n",
    "       'General Status', 'Gender',  'Won Primary',\n",
    "       'Race', 'Veteran?', 'LGBTQ?', 'Elected Official?', 'Self-Funder?',\n",
    "       'STEM?', 'Obama Alum?']\n",
    "for feature in cols:\n",
    "    print('Feature: {:^21s}; # of Unique Vals: {};  Unique Values: {}'\n",
    "          .format(feature, len(df[feature].unique()), df[feature].unique()))"
   ]
  },
  {
   "cell_type": "markdown",
   "metadata": {},
   "source": [
    "From a quick inspection of the data, we see that all of the above features are categorical. \n",
    "\n",
    "2 of the features ('Office Type' and 'Primary Runoff Status') are multicategory features, while the remainder are binary features, although most of them have missing values that need to be addressed."
   ]
  },
  {
   "cell_type": "markdown",
   "metadata": {},
   "source": [
    "#### Duplicates\n",
    "\n",
    "It's important to confirm that the dataset doesn't contain duplicated rows. I reason that if a candidate is running for multiple positions or in multiple races, they can only occupy one roll, so a win in any race indicates they were a winning candidate. In any case, it's unlikely that multiple candidates with the same name would run in the same district (it would be like hanging-chad-gate times 100), so we should check our data. \n",
    "\n",
    "From the printout below, we see that 10 candidates match on both name and district. Per inspection, we see that these cases involve people running in both a regular and special election.  "
   ]
  },
  {
   "cell_type": "code",
   "execution_count": 10,
   "metadata": {},
   "outputs": [
    {
     "name": "stdout",
     "output_type": "stream",
     "text": [
      "Without duplicated candidate names, there are 801 entries in the data set\n",
      "With duplicated candidate names, there are    811 entries in the data set\n"
     ]
    }
   ],
   "source": [
    "no_dupes = len(df.loc[:,['Candidate','District']].drop_duplicates())\n",
    "print('Without duplicated candidate names, there are {} entries in the data set'.format(no_dupes))\n",
    "print('With duplicated candidate names, there are    {} entries in the data set'.format(len(df)))"
   ]
  },
  {
   "cell_type": "code",
   "execution_count": 11,
   "metadata": {
    "scrolled": false
   },
   "outputs": [
    {
     "data": {
      "text/html": [
       "<div>\n",
       "<style scoped>\n",
       "    .dataframe tbody tr th:only-of-type {\n",
       "        vertical-align: middle;\n",
       "    }\n",
       "\n",
       "    .dataframe tbody tr th {\n",
       "        vertical-align: top;\n",
       "    }\n",
       "\n",
       "    .dataframe thead th {\n",
       "        text-align: right;\n",
       "    }\n",
       "</style>\n",
       "<table border=\"1\" class=\"dataframe\">\n",
       "  <thead>\n",
       "    <tr style=\"text-align: right;\">\n",
       "      <th></th>\n",
       "      <th>Candidate</th>\n",
       "      <th>State</th>\n",
       "      <th>District</th>\n",
       "      <th>Office Type</th>\n",
       "      <th>Race Type</th>\n",
       "      <th>Race Primary Election Date</th>\n",
       "      <th>Primary Status</th>\n",
       "      <th>Primary Runoff Status</th>\n",
       "      <th>General Status</th>\n",
       "      <th>Gender</th>\n",
       "      <th>Partisan Lean</th>\n",
       "      <th>Primary %</th>\n",
       "      <th>Won Primary</th>\n",
       "      <th>Race</th>\n",
       "      <th>Veteran?</th>\n",
       "      <th>LGBTQ?</th>\n",
       "      <th>Elected Official?</th>\n",
       "      <th>Self-Funder?</th>\n",
       "      <th>STEM?</th>\n",
       "      <th>Obama Alum?</th>\n",
       "    </tr>\n",
       "  </thead>\n",
       "  <tbody>\n",
       "    <tr>\n",
       "      <th>304</th>\n",
       "      <td>Bill Wild</td>\n",
       "      <td>MI</td>\n",
       "      <td>U.S. House Michigan District 13</td>\n",
       "      <td>Representative</td>\n",
       "      <td>Regular</td>\n",
       "      <td>2018-08-07</td>\n",
       "      <td>Lost</td>\n",
       "      <td>None</td>\n",
       "      <td>None</td>\n",
       "      <td>Male</td>\n",
       "      <td>60.72000</td>\n",
       "      <td>14.00000</td>\n",
       "      <td>No</td>\n",
       "      <td>White</td>\n",
       "      <td>No</td>\n",
       "      <td>No</td>\n",
       "      <td>Yes</td>\n",
       "      <td>No</td>\n",
       "      <td>No</td>\n",
       "      <td>No</td>\n",
       "    </tr>\n",
       "    <tr>\n",
       "      <th>305</th>\n",
       "      <td>Bill Wild</td>\n",
       "      <td>MI</td>\n",
       "      <td>U.S. House Michigan District 13</td>\n",
       "      <td>Representative</td>\n",
       "      <td>Special</td>\n",
       "      <td>2018-08-07</td>\n",
       "      <td>Lost</td>\n",
       "      <td>None</td>\n",
       "      <td>None</td>\n",
       "      <td>Male</td>\n",
       "      <td>60.72000</td>\n",
       "      <td>15.20000</td>\n",
       "      <td>No</td>\n",
       "      <td>White</td>\n",
       "      <td>No</td>\n",
       "      <td>No</td>\n",
       "      <td>Yes</td>\n",
       "      <td>No</td>\n",
       "      <td>No</td>\n",
       "      <td>No</td>\n",
       "    </tr>\n",
       "    <tr>\n",
       "      <th>306</th>\n",
       "      <td>Brenda Jones</td>\n",
       "      <td>MI</td>\n",
       "      <td>U.S. House Michigan District 13</td>\n",
       "      <td>Representative</td>\n",
       "      <td>Special</td>\n",
       "      <td>2018-08-07</td>\n",
       "      <td>Advanced</td>\n",
       "      <td>None</td>\n",
       "      <td>On the Ballot</td>\n",
       "      <td>Female</td>\n",
       "      <td>60.72000</td>\n",
       "      <td>37.70000</td>\n",
       "      <td>Yes</td>\n",
       "      <td>Nonwhite</td>\n",
       "      <td>No</td>\n",
       "      <td>No</td>\n",
       "      <td>Yes</td>\n",
       "      <td>No</td>\n",
       "      <td>No</td>\n",
       "      <td>No</td>\n",
       "    </tr>\n",
       "    <tr>\n",
       "      <th>307</th>\n",
       "      <td>Brenda Jones</td>\n",
       "      <td>MI</td>\n",
       "      <td>U.S. House Michigan District 13</td>\n",
       "      <td>Representative</td>\n",
       "      <td>Regular</td>\n",
       "      <td>2018-08-07</td>\n",
       "      <td>Lost</td>\n",
       "      <td>None</td>\n",
       "      <td>None</td>\n",
       "      <td>Female</td>\n",
       "      <td>60.72000</td>\n",
       "      <td>29.20000</td>\n",
       "      <td>No</td>\n",
       "      <td>Nonwhite</td>\n",
       "      <td>No</td>\n",
       "      <td>No</td>\n",
       "      <td>Yes</td>\n",
       "      <td>No</td>\n",
       "      <td>No</td>\n",
       "      <td>No</td>\n",
       "    </tr>\n",
       "    <tr>\n",
       "      <th>309</th>\n",
       "      <td>Ian Conyers</td>\n",
       "      <td>MI</td>\n",
       "      <td>U.S. House Michigan District 13</td>\n",
       "      <td>Representative</td>\n",
       "      <td>Regular</td>\n",
       "      <td>2018-08-07</td>\n",
       "      <td>Lost</td>\n",
       "      <td>None</td>\n",
       "      <td>None</td>\n",
       "      <td>Male</td>\n",
       "      <td>60.72000</td>\n",
       "      <td>6.30000</td>\n",
       "      <td>No</td>\n",
       "      <td>Nonwhite</td>\n",
       "      <td>No</td>\n",
       "      <td>No</td>\n",
       "      <td>Yes</td>\n",
       "      <td>No</td>\n",
       "      <td>No</td>\n",
       "      <td>No</td>\n",
       "    </tr>\n",
       "    <tr>\n",
       "      <th>310</th>\n",
       "      <td>Ian Conyers</td>\n",
       "      <td>MI</td>\n",
       "      <td>U.S. House Michigan District 13</td>\n",
       "      <td>Representative</td>\n",
       "      <td>Special</td>\n",
       "      <td>2018-08-07</td>\n",
       "      <td>Lost</td>\n",
       "      <td>None</td>\n",
       "      <td>None</td>\n",
       "      <td>Male</td>\n",
       "      <td>60.72000</td>\n",
       "      <td>11.20000</td>\n",
       "      <td>No</td>\n",
       "      <td>Nonwhite</td>\n",
       "      <td>No</td>\n",
       "      <td>No</td>\n",
       "      <td>Yes</td>\n",
       "      <td>No</td>\n",
       "      <td>No</td>\n",
       "      <td>No</td>\n",
       "    </tr>\n",
       "    <tr>\n",
       "      <th>311</th>\n",
       "      <td>Rashida Tlaib</td>\n",
       "      <td>MI</td>\n",
       "      <td>U.S. House Michigan District 13</td>\n",
       "      <td>Representative</td>\n",
       "      <td>Regular</td>\n",
       "      <td>2018-08-07</td>\n",
       "      <td>Advanced</td>\n",
       "      <td>None</td>\n",
       "      <td>On the Ballot</td>\n",
       "      <td>Female</td>\n",
       "      <td>60.72000</td>\n",
       "      <td>33.20000</td>\n",
       "      <td>Yes</td>\n",
       "      <td>Nonwhite</td>\n",
       "      <td>No</td>\n",
       "      <td>No</td>\n",
       "      <td>Yes</td>\n",
       "      <td>No</td>\n",
       "      <td>No</td>\n",
       "      <td>Yes</td>\n",
       "    </tr>\n",
       "    <tr>\n",
       "      <th>312</th>\n",
       "      <td>Rashida Tlaib</td>\n",
       "      <td>MI</td>\n",
       "      <td>U.S. House Michigan District 13</td>\n",
       "      <td>Representative</td>\n",
       "      <td>Special</td>\n",
       "      <td>2018-08-07</td>\n",
       "      <td>Lost</td>\n",
       "      <td>None</td>\n",
       "      <td>None</td>\n",
       "      <td>Female</td>\n",
       "      <td>60.72000</td>\n",
       "      <td>35.90000</td>\n",
       "      <td>No</td>\n",
       "      <td>Nonwhite</td>\n",
       "      <td>No</td>\n",
       "      <td>No</td>\n",
       "      <td>Yes</td>\n",
       "      <td>No</td>\n",
       "      <td>No</td>\n",
       "      <td>Yes</td>\n",
       "    </tr>\n",
       "    <tr>\n",
       "      <th>500</th>\n",
       "      <td>Danny O'Connor</td>\n",
       "      <td>OH</td>\n",
       "      <td>U.S. House Ohio District 12</td>\n",
       "      <td>Representative</td>\n",
       "      <td>Regular</td>\n",
       "      <td>2018-05-08</td>\n",
       "      <td>Advanced</td>\n",
       "      <td>None</td>\n",
       "      <td>On the Ballot</td>\n",
       "      <td>Male</td>\n",
       "      <td>-13.63000</td>\n",
       "      <td>40.52000</td>\n",
       "      <td>Yes</td>\n",
       "      <td>NaN</td>\n",
       "      <td>No</td>\n",
       "      <td>No</td>\n",
       "      <td>Yes</td>\n",
       "      <td>No</td>\n",
       "      <td>No</td>\n",
       "      <td>No</td>\n",
       "    </tr>\n",
       "    <tr>\n",
       "      <th>501</th>\n",
       "      <td>Danny O'Connor</td>\n",
       "      <td>OH</td>\n",
       "      <td>U.S. House Ohio District 12</td>\n",
       "      <td>Representative</td>\n",
       "      <td>Special</td>\n",
       "      <td>2018-05-08</td>\n",
       "      <td>Advanced</td>\n",
       "      <td>None</td>\n",
       "      <td>On the Ballot</td>\n",
       "      <td>Male</td>\n",
       "      <td>-13.63000</td>\n",
       "      <td>40.94000</td>\n",
       "      <td>Yes</td>\n",
       "      <td>NaN</td>\n",
       "      <td>No</td>\n",
       "      <td>No</td>\n",
       "      <td>Yes</td>\n",
       "      <td>No</td>\n",
       "      <td>No</td>\n",
       "      <td>No</td>\n",
       "    </tr>\n",
       "    <tr>\n",
       "      <th>502</th>\n",
       "      <td>Doug Wilson</td>\n",
       "      <td>OH</td>\n",
       "      <td>U.S. House Ohio District 12</td>\n",
       "      <td>Representative</td>\n",
       "      <td>Special</td>\n",
       "      <td>2018-05-08</td>\n",
       "      <td>Lost</td>\n",
       "      <td>None</td>\n",
       "      <td>None</td>\n",
       "      <td>Male</td>\n",
       "      <td>-13.63000</td>\n",
       "      <td>3.94000</td>\n",
       "      <td>No</td>\n",
       "      <td>NaN</td>\n",
       "      <td>No</td>\n",
       "      <td>No</td>\n",
       "      <td>Yes</td>\n",
       "      <td>No</td>\n",
       "      <td>No</td>\n",
       "      <td>No</td>\n",
       "    </tr>\n",
       "    <tr>\n",
       "      <th>503</th>\n",
       "      <td>Doug Wilson</td>\n",
       "      <td>OH</td>\n",
       "      <td>U.S. House Ohio District 12</td>\n",
       "      <td>Representative</td>\n",
       "      <td>Regular</td>\n",
       "      <td>2018-05-08</td>\n",
       "      <td>Lost</td>\n",
       "      <td>None</td>\n",
       "      <td>None</td>\n",
       "      <td>Male</td>\n",
       "      <td>-13.63000</td>\n",
       "      <td>3.74000</td>\n",
       "      <td>No</td>\n",
       "      <td>NaN</td>\n",
       "      <td>No</td>\n",
       "      <td>No</td>\n",
       "      <td>Yes</td>\n",
       "      <td>No</td>\n",
       "      <td>No</td>\n",
       "      <td>No</td>\n",
       "    </tr>\n",
       "    <tr>\n",
       "      <th>504</th>\n",
       "      <td>Ed Albertson</td>\n",
       "      <td>OH</td>\n",
       "      <td>U.S. House Ohio District 12</td>\n",
       "      <td>Representative</td>\n",
       "      <td>Special</td>\n",
       "      <td>2018-05-08</td>\n",
       "      <td>Lost</td>\n",
       "      <td>None</td>\n",
       "      <td>None</td>\n",
       "      <td>Male</td>\n",
       "      <td>-13.63000</td>\n",
       "      <td>8.08000</td>\n",
       "      <td>No</td>\n",
       "      <td>NaN</td>\n",
       "      <td>Yes</td>\n",
       "      <td>No</td>\n",
       "      <td>No</td>\n",
       "      <td>No</td>\n",
       "      <td>No</td>\n",
       "      <td>No</td>\n",
       "    </tr>\n",
       "    <tr>\n",
       "      <th>505</th>\n",
       "      <td>Ed Albertson</td>\n",
       "      <td>OH</td>\n",
       "      <td>U.S. House Ohio District 12</td>\n",
       "      <td>Representative</td>\n",
       "      <td>Regular</td>\n",
       "      <td>2018-05-08</td>\n",
       "      <td>Lost</td>\n",
       "      <td>None</td>\n",
       "      <td>None</td>\n",
       "      <td>Male</td>\n",
       "      <td>-13.63000</td>\n",
       "      <td>7.86000</td>\n",
       "      <td>No</td>\n",
       "      <td>NaN</td>\n",
       "      <td>Yes</td>\n",
       "      <td>No</td>\n",
       "      <td>No</td>\n",
       "      <td>No</td>\n",
       "      <td>No</td>\n",
       "      <td>No</td>\n",
       "    </tr>\n",
       "    <tr>\n",
       "      <th>506</th>\n",
       "      <td>Jackie Patton</td>\n",
       "      <td>OH</td>\n",
       "      <td>U.S. House Ohio District 12</td>\n",
       "      <td>Representative</td>\n",
       "      <td>Special</td>\n",
       "      <td>2018-05-08</td>\n",
       "      <td>Lost</td>\n",
       "      <td>None</td>\n",
       "      <td>None</td>\n",
       "      <td>Female</td>\n",
       "      <td>-13.63000</td>\n",
       "      <td>13.58000</td>\n",
       "      <td>No</td>\n",
       "      <td>NaN</td>\n",
       "      <td>No</td>\n",
       "      <td>No</td>\n",
       "      <td>No</td>\n",
       "      <td>No</td>\n",
       "      <td>No</td>\n",
       "      <td>No</td>\n",
       "    </tr>\n",
       "    <tr>\n",
       "      <th>507</th>\n",
       "      <td>Jackie Patton</td>\n",
       "      <td>OH</td>\n",
       "      <td>U.S. House Ohio District 12</td>\n",
       "      <td>Representative</td>\n",
       "      <td>Regular</td>\n",
       "      <td>2018-05-08</td>\n",
       "      <td>Lost</td>\n",
       "      <td>None</td>\n",
       "      <td>None</td>\n",
       "      <td>Female</td>\n",
       "      <td>-13.63000</td>\n",
       "      <td>14.02000</td>\n",
       "      <td>No</td>\n",
       "      <td>NaN</td>\n",
       "      <td>No</td>\n",
       "      <td>No</td>\n",
       "      <td>No</td>\n",
       "      <td>No</td>\n",
       "      <td>No</td>\n",
       "      <td>No</td>\n",
       "    </tr>\n",
       "    <tr>\n",
       "      <th>509</th>\n",
       "      <td>John Russell</td>\n",
       "      <td>OH</td>\n",
       "      <td>U.S. House Ohio District 12</td>\n",
       "      <td>Representative</td>\n",
       "      <td>Regular</td>\n",
       "      <td>2018-05-08</td>\n",
       "      <td>Lost</td>\n",
       "      <td>None</td>\n",
       "      <td>None</td>\n",
       "      <td>Male</td>\n",
       "      <td>-13.63000</td>\n",
       "      <td>16.27000</td>\n",
       "      <td>No</td>\n",
       "      <td>NaN</td>\n",
       "      <td>No</td>\n",
       "      <td>No</td>\n",
       "      <td>No</td>\n",
       "      <td>No</td>\n",
       "      <td>No</td>\n",
       "      <td>No</td>\n",
       "    </tr>\n",
       "    <tr>\n",
       "      <th>510</th>\n",
       "      <td>John Russell</td>\n",
       "      <td>OH</td>\n",
       "      <td>U.S. House Ohio District 12</td>\n",
       "      <td>Representative</td>\n",
       "      <td>Special</td>\n",
       "      <td>2018-05-08</td>\n",
       "      <td>Lost</td>\n",
       "      <td>None</td>\n",
       "      <td>None</td>\n",
       "      <td>Male</td>\n",
       "      <td>-13.63000</td>\n",
       "      <td>16.70000</td>\n",
       "      <td>No</td>\n",
       "      <td>NaN</td>\n",
       "      <td>No</td>\n",
       "      <td>No</td>\n",
       "      <td>No</td>\n",
       "      <td>No</td>\n",
       "      <td>No</td>\n",
       "      <td>No</td>\n",
       "    </tr>\n",
       "    <tr>\n",
       "      <th>511</th>\n",
       "      <td>Zach Scott</td>\n",
       "      <td>OH</td>\n",
       "      <td>U.S. House Ohio District 12</td>\n",
       "      <td>Representative</td>\n",
       "      <td>Regular</td>\n",
       "      <td>2018-05-08</td>\n",
       "      <td>Lost</td>\n",
       "      <td>None</td>\n",
       "      <td>None</td>\n",
       "      <td>Male</td>\n",
       "      <td>-13.63000</td>\n",
       "      <td>16.10000</td>\n",
       "      <td>No</td>\n",
       "      <td>NaN</td>\n",
       "      <td>No</td>\n",
       "      <td>No</td>\n",
       "      <td>Yes</td>\n",
       "      <td>No</td>\n",
       "      <td>No</td>\n",
       "      <td>No</td>\n",
       "    </tr>\n",
       "    <tr>\n",
       "      <th>512</th>\n",
       "      <td>Zach Scott</td>\n",
       "      <td>OH</td>\n",
       "      <td>U.S. House Ohio District 12</td>\n",
       "      <td>Representative</td>\n",
       "      <td>Special</td>\n",
       "      <td>2018-05-08</td>\n",
       "      <td>Lost</td>\n",
       "      <td>None</td>\n",
       "      <td>None</td>\n",
       "      <td>Male</td>\n",
       "      <td>-13.63000</td>\n",
       "      <td>16.76000</td>\n",
       "      <td>No</td>\n",
       "      <td>NaN</td>\n",
       "      <td>No</td>\n",
       "      <td>No</td>\n",
       "      <td>Yes</td>\n",
       "      <td>No</td>\n",
       "      <td>No</td>\n",
       "      <td>No</td>\n",
       "    </tr>\n",
       "  </tbody>\n",
       "</table>\n",
       "</div>"
      ],
      "text/plain": [
       "          Candidate State                         District     Office Type  \\\n",
       "304       Bill Wild    MI  U.S. House Michigan District 13  Representative   \n",
       "305       Bill Wild    MI  U.S. House Michigan District 13  Representative   \n",
       "306    Brenda Jones    MI  U.S. House Michigan District 13  Representative   \n",
       "307    Brenda Jones    MI  U.S. House Michigan District 13  Representative   \n",
       "309     Ian Conyers    MI  U.S. House Michigan District 13  Representative   \n",
       "310     Ian Conyers    MI  U.S. House Michigan District 13  Representative   \n",
       "311   Rashida Tlaib    MI  U.S. House Michigan District 13  Representative   \n",
       "312   Rashida Tlaib    MI  U.S. House Michigan District 13  Representative   \n",
       "500  Danny O'Connor    OH      U.S. House Ohio District 12  Representative   \n",
       "501  Danny O'Connor    OH      U.S. House Ohio District 12  Representative   \n",
       "502     Doug Wilson    OH      U.S. House Ohio District 12  Representative   \n",
       "503     Doug Wilson    OH      U.S. House Ohio District 12  Representative   \n",
       "504    Ed Albertson    OH      U.S. House Ohio District 12  Representative   \n",
       "505    Ed Albertson    OH      U.S. House Ohio District 12  Representative   \n",
       "506   Jackie Patton    OH      U.S. House Ohio District 12  Representative   \n",
       "507   Jackie Patton    OH      U.S. House Ohio District 12  Representative   \n",
       "509    John Russell    OH      U.S. House Ohio District 12  Representative   \n",
       "510    John Russell    OH      U.S. House Ohio District 12  Representative   \n",
       "511      Zach Scott    OH      U.S. House Ohio District 12  Representative   \n",
       "512      Zach Scott    OH      U.S. House Ohio District 12  Representative   \n",
       "\n",
       "    Race Type Race Primary Election Date Primary Status Primary Runoff Status  \\\n",
       "304   Regular                 2018-08-07           Lost                  None   \n",
       "305   Special                 2018-08-07           Lost                  None   \n",
       "306   Special                 2018-08-07       Advanced                  None   \n",
       "307   Regular                 2018-08-07           Lost                  None   \n",
       "309   Regular                 2018-08-07           Lost                  None   \n",
       "310   Special                 2018-08-07           Lost                  None   \n",
       "311   Regular                 2018-08-07       Advanced                  None   \n",
       "312   Special                 2018-08-07           Lost                  None   \n",
       "500   Regular                 2018-05-08       Advanced                  None   \n",
       "501   Special                 2018-05-08       Advanced                  None   \n",
       "502   Special                 2018-05-08           Lost                  None   \n",
       "503   Regular                 2018-05-08           Lost                  None   \n",
       "504   Special                 2018-05-08           Lost                  None   \n",
       "505   Regular                 2018-05-08           Lost                  None   \n",
       "506   Special                 2018-05-08           Lost                  None   \n",
       "507   Regular                 2018-05-08           Lost                  None   \n",
       "509   Regular                 2018-05-08           Lost                  None   \n",
       "510   Special                 2018-05-08           Lost                  None   \n",
       "511   Regular                 2018-05-08           Lost                  None   \n",
       "512   Special                 2018-05-08           Lost                  None   \n",
       "\n",
       "    General Status  Gender  Partisan Lean  Primary % Won Primary      Race  \\\n",
       "304           None    Male       60.72000   14.00000          No     White   \n",
       "305           None    Male       60.72000   15.20000          No     White   \n",
       "306  On the Ballot  Female       60.72000   37.70000         Yes  Nonwhite   \n",
       "307           None  Female       60.72000   29.20000          No  Nonwhite   \n",
       "309           None    Male       60.72000    6.30000          No  Nonwhite   \n",
       "310           None    Male       60.72000   11.20000          No  Nonwhite   \n",
       "311  On the Ballot  Female       60.72000   33.20000         Yes  Nonwhite   \n",
       "312           None  Female       60.72000   35.90000          No  Nonwhite   \n",
       "500  On the Ballot    Male      -13.63000   40.52000         Yes       NaN   \n",
       "501  On the Ballot    Male      -13.63000   40.94000         Yes       NaN   \n",
       "502           None    Male      -13.63000    3.94000          No       NaN   \n",
       "503           None    Male      -13.63000    3.74000          No       NaN   \n",
       "504           None    Male      -13.63000    8.08000          No       NaN   \n",
       "505           None    Male      -13.63000    7.86000          No       NaN   \n",
       "506           None  Female      -13.63000   13.58000          No       NaN   \n",
       "507           None  Female      -13.63000   14.02000          No       NaN   \n",
       "509           None    Male      -13.63000   16.27000          No       NaN   \n",
       "510           None    Male      -13.63000   16.70000          No       NaN   \n",
       "511           None    Male      -13.63000   16.10000          No       NaN   \n",
       "512           None    Male      -13.63000   16.76000          No       NaN   \n",
       "\n",
       "    Veteran? LGBTQ? Elected Official? Self-Funder? STEM? Obama Alum?  \n",
       "304       No     No               Yes           No    No          No  \n",
       "305       No     No               Yes           No    No          No  \n",
       "306       No     No               Yes           No    No          No  \n",
       "307       No     No               Yes           No    No          No  \n",
       "309       No     No               Yes           No    No          No  \n",
       "310       No     No               Yes           No    No          No  \n",
       "311       No     No               Yes           No    No         Yes  \n",
       "312       No     No               Yes           No    No         Yes  \n",
       "500       No     No               Yes           No    No          No  \n",
       "501       No     No               Yes           No    No          No  \n",
       "502       No     No               Yes           No    No          No  \n",
       "503       No     No               Yes           No    No          No  \n",
       "504      Yes     No                No           No    No          No  \n",
       "505      Yes     No                No           No    No          No  \n",
       "506       No     No                No           No    No          No  \n",
       "507       No     No                No           No    No          No  \n",
       "509       No     No                No           No    No          No  \n",
       "510       No     No                No           No    No          No  \n",
       "511       No     No               Yes           No    No          No  \n",
       "512       No     No               Yes           No    No          No  "
      ]
     },
     "execution_count": 11,
     "metadata": {},
     "output_type": "execute_result"
    }
   ],
   "source": [
    "df[df.loc[:,['Candidate','District']].duplicated(keep=False)]"
   ]
  },
  {
   "cell_type": "markdown",
   "metadata": {},
   "source": [
    "## Missing Data"
   ]
  },
  {
   "cell_type": "code",
   "execution_count": 12,
   "metadata": {},
   "outputs": [
    {
     "data": {
      "text/plain": [
       "Candidate                       0\n",
       "State                           0\n",
       "District                        0\n",
       "Office Type                     0\n",
       "Race Type                       0\n",
       "Race Primary Election Date      0\n",
       "Primary Status                  4\n",
       "Primary Runoff Status           0\n",
       "General Status                  4\n",
       "Gender                          0\n",
       "Partisan Lean                   0\n",
       "Primary %                      10\n",
       "Won Primary                    26\n",
       "Race                          156\n",
       "Veteran?                       11\n",
       "LGBTQ?                         11\n",
       "Elected Official?              11\n",
       "Self-Funder?                    0\n",
       "STEM?                          11\n",
       "Obama Alum?                     1\n",
       "dtype: int64"
      ]
     },
     "execution_count": 12,
     "metadata": {},
     "output_type": "execute_result"
    }
   ],
   "source": [
    "# How many missing values are there for each feature?\n",
    "df.isnull().sum()"
   ]
  },
  {
   "cell_type": "markdown",
   "metadata": {},
   "source": [
    "We see that race is the most common missing value. Per the list of unique values below, we see that the race category has been grouped as 'white' and 'nonwhite'. The current administration contains very few nonwhite individuals and per recent [Pew research survey data](http://www.people-press.org/2018/03/20/wide-gender-gap-growing-educational-divide-in-voters-party-identification/), white people make 83% of registered Republican-leaning voters while white people only make up 59% of registered Democrat-leaning voters. There have been a handful of well publicized nonwhite candidates (eg: Stacey Abrams (GA, Governer), Alexandria Ocasio-Cortez (Queens NYC, House)), but it would be interesting to see the impact of race more generally. "
   ]
  },
  {
   "cell_type": "code",
   "execution_count": 13,
   "metadata": {},
   "outputs": [
    {
     "data": {
      "text/plain": [
       "array(['Nonwhite', 'White', nan], dtype=object)"
      ]
     },
     "execution_count": 13,
     "metadata": {},
     "output_type": "execute_result"
    }
   ],
   "source": [
    "df['Race'].unique()"
   ]
  },
  {
   "cell_type": "code",
   "execution_count": 14,
   "metadata": {},
   "outputs": [
    {
     "data": {
      "text/plain": [
       "156"
      ]
     },
     "execution_count": 14,
     "metadata": {},
     "output_type": "execute_result"
    }
   ],
   "source": [
    "# Pre Adjustment\n",
    "df['Race'].isnull().sum()"
   ]
  },
  {
   "cell_type": "markdown",
   "metadata": {},
   "source": [
    "### Missing Data: Race\n",
    "\n",
    "I want to see if race is an important feature, so I'll do some leg work to fill in the data. Race (or at least racial appearance) can be identified by sight, and people who run for office tend to be photographed. I've used appearing white as my test for whiteness, and I've required 2 distinct photos on 2 distinct sites as my test (to make sure that the photo is correctly named).\n",
    "\n",
    "So far, I've given up on finding photos of \n",
    "* Jack Schofield Jr. (NV)\n",
    "* Cody James Slatzer-Rose (OH)\n",
    "* Joseph Schenkenfelder (TN)\n",
    "\n",
    "Interesting things:\n",
    "* The confirmation picture I found for [David Matthew Hullum](http://www.nwajailbirds.com/2018-03-28-stacy-charles-digby-arrested-for-sexual-indecency-with-a-child-and-sexual-assault.html) was a mugshot from March 28th, 2018. "
   ]
  },
  {
   "cell_type": "code",
   "execution_count": 15,
   "metadata": {},
   "outputs": [],
   "source": [
    "df.loc[(df['Candidate'] == 'Danny O\\'Connor') & (df['State'] == 'OH'), 'Race'] = 'White'\n",
    "df.loc[(df['Candidate'] == 'John Russell') & (df['State'] == 'OH'), 'Race'] = 'White'\n",
    "df.loc[(df['Candidate'] == 'Jackie Patton') & (df['State'] == 'OH'), 'Race'] = 'White'\n",
    "df.loc[(df['Candidate'] == 'Zach Scott') & (df['State'] == 'OH'), 'Race'] = 'White'\n",
    "df.loc[(df['Candidate'] == 'Ed Albertson') & (df['State'] == 'OH'), 'Race'] = 'White'\n",
    "df.loc[(df['Candidate'] == 'Doug Wilson') & (df['State'] == 'OH'), 'Race'] = 'White'\n",
    "df.loc[(df['Candidate'] == 'Joseph Schiavoni') & (df['State'] == 'OH'), 'Race'] = 'White'\n",
    "df.loc[(df['Candidate'] == 'Paul Ray') & (df['State'] == 'OH'), 'Race'] = 'White'\n",
    "df.loc[(df['Candidate'] == 'Michael Milisits') & (df['State'] == 'OH'), 'Race'] = 'White'\n",
    "df.loc[(df['Candidate'] == 'Robert Klepinger') & (df['State'] == 'OH'), 'Race'] = 'White'\n",
    "df.loc[(df['Candidate'] == 'Theresa Gasper') & (df['State'] == 'OH'), 'Race'] = 'White'\n",
    "df.loc[(df['Candidate'] == 'John Peters') & (df['State'] == 'OH'), 'Race'] = 'White'\n",
    "df.loc[(df['Candidate'] == 'Betsy Rader') & (df['State'] == 'OH'), 'Race'] = 'White'\n",
    "df.loc[(df['Candidate'] == 'Rick Neal') & (df['State'] == 'OH'), 'Race'] = 'White'\n",
    "df.loc[(df['Candidate'] == 'Rob Jarvis') & (df['State'] == 'OH'), 'Race'] = 'White'\n",
    "df.loc[(df['Candidate'] == 'Aaron Godfrey') & (df['State'] == 'OH'), 'Race'] = 'White'\n",
    "df.loc[(df['Candidate'] == 'Grant Goodrich') & (df['State'] == 'OH'), 'Race'] = 'White'\n",
    "df.loc[(df['Candidate'] == 'Mark Dent') & (df['State'] == 'OH'), 'Race'] = 'White'\n",
    "df.loc[(df['Candidate'] == 'Susan Moran Palmer') & (df['State'] == 'OH'), 'Race'] = 'White'\n",
    "df.loc[(df['Candidate'] == 'Janet Everhard') & (df['State'] == 'OH'), 'Race'] = 'White'\n",
    "df.loc[(df['Candidate'] == 'Jill Schiller') & (df['State'] == 'OH'), 'Race'] = 'White'\n",
    "df.loc[(df['Candidate'] == 'William Smith') & (df['State'] == 'OH'), 'Race'] = 'White'\n",
    "df.loc[(df['Candidate'] == 'John Wilson') & (df['State'] == 'OH'), 'Race'] = 'White'\n",
    "df.loc[(df['Candidate'] == 'Janet Garrett') & (df['State'] == 'OH'), 'Race'] = 'White'\n",
    "df.loc[(df['Candidate'] == 'James Neu Jr.') & (df['State'] == 'OH'), 'Race'] = 'White'\n",
    "df.loc[(df['Candidate'] == 'John Michael Galbraith') & (df['State'] == 'OH'), 'Race'] = 'White'\n",
    "df.loc[(df['Candidate'] == 'Shawna Roberts') & (df['State'] == 'OH'), 'Race'] = 'White'\n",
    "df.loc[(df['Candidate'] == 'Werner Lange') & (df['State'] == 'OH'), 'Race'] = 'White'\n",
    "df.loc[(df['Candidate'] == 'Ken Harbaugh') & (df['State'] == 'OH'), 'Race'] = 'White'\n",
    "df.loc[(df['Candidate'] == 'Patrick Pikus') & (df['State'] == 'OH'), 'Race'] = 'White'\n",
    "df.loc[(df['Candidate'] == 'Bill Ebben') & (df['State'] == 'OH'), 'Race'] = 'White'\n",
    "df.loc[(df['Candidate'] == 'Matthew Guyette') & (df['State'] == 'OH'), 'Race'] = 'White'\n",
    "df.loc[(df['Candidate'] == 'Ted Jones') & (df['State'] == 'OH'), 'Race'] = 'White'\n",
    "\n",
    "df.loc[(df['Candidate'] == 'Michael Brown') & (df['State'] == 'MD'), 'Race'] = 'Nonwhite'\n",
    "\n",
    "df.loc[(df['Candidate'] == 'Craig Olson') & (df['State'] == 'ME'), 'Race'] = 'White'\n",
    "df.loc[(df['Candidate'] == 'Jared Golden') & (df['State'] == 'ME'), 'Race'] = 'White'\n",
    "df.loc[(df['Candidate'] == 'Lucas St. Clair') & (df['State'] == 'ME'), 'Race'] = 'White'\n",
    "df.loc[(df['Candidate'] == 'Zak Ringelstein') & (df['State'] == 'ME'), 'Race'] = 'White'\n",
    "\n",
    "df.loc[(df['Candidate'] == 'Michael McCarthy (Michigan)') & (df['State'] == 'MI'), 'Race'] = 'White'\n",
    "\n",
    "df.loc[(df['Candidate'] == 'Ed Andres') & (df['State'] == 'MO'), 'Race'] = 'White'\n",
    "df.loc[(df['Candidate'] == 'Kenneth Hatfield') & (df['State'] == 'MO'), 'Race'] = 'White'\n",
    "df.loc[(df['Candidate'] == 'Vincent Jennings') & (df['State'] == 'MO'), 'Race'] = 'White'\n",
    "\n",
    "df.loc[(df['Candidate'] == 'Randy Wadkins') & (df['State'] == 'MS'), 'Race'] = 'White'\n",
    "df.loc[(df['Candidate'] == 'Michael Aycox') & (df['State'] == 'MS'), 'Race'] = 'White'\n",
    "df.loc[(df['Candidate'] == 'Michael Evans') & (df['State'] == 'MS'), 'Race'] = 'White'\n",
    "df.loc[(df['Candidate'] == 'Jensen Bohren') & (df['State'] == 'MS'), 'Race'] = 'White'\n",
    "\n",
    "df.loc[(df['Candidate'] == 'Grant Kier') & (df['State'] == 'MT'), 'Race'] = 'White'\n",
    "df.loc[(df['Candidate'] == 'Jared Pettinato') & (df['State'] == 'MT'), 'Race'] = 'White'\n",
    "df.loc[(df['Candidate'] == 'John Heenan') & (df['State'] == 'MT'), 'Race'] = 'White'\n",
    "df.loc[(df['Candidate'] == 'John Meyer') & (df['State'] == 'MT'), 'Race'] = 'White'\n",
    "df.loc[(df['Candidate'] == 'Kathleen Williams') & (df['State'] == 'MT'), 'Race'] = 'White'\n",
    "df.loc[(df['Candidate'] == 'Lynda Moss') & (df['State'] == 'MT'), 'Race'] = 'White'\n",
    "\n",
    "df.loc[(df['Candidate'] == 'Mac Schneider') & (df['State'] == 'ND'), 'Race'] = 'White'\n",
    "\n",
    "df.loc[(df['Candidate'] == 'Dennis Crawford') & (df['State'] == 'NE'), 'Race'] = 'White'\n",
    "df.loc[(df['Candidate'] == 'Jessica McClure') & (df['State'] == 'NE'), 'Race'] = 'White'\n",
    "df.loc[(df['Candidate'] == 'Brad Ashford') & (df['State'] == 'NE'), 'Race'] = 'White'\n",
    "df.loc[(df['Candidate'] == 'Kara Eastman') & (df['State'] == 'NE'), 'Race'] = 'White'\n",
    "df.loc[(df['Candidate'] == 'Paul Theobald') & (df['State'] == 'NE'), 'Race'] = 'White'\n",
    "df.loc[(df['Candidate'] == 'Chris Janicek') & (df['State'] == 'NE'), 'Race'] = 'White'\n",
    "df.loc[(df['Candidate'] == 'Frank Svoboda') & (df['State'] == 'NE'), 'Race'] = 'White'\n",
    "df.loc[(df['Candidate'] == 'Jane Raybould') & (df['State'] == 'NE'), 'Race'] = 'White'\n",
    "df.loc[(df['Candidate'] == 'Larry Marvin') & (df['State'] == 'NE'), 'Race'] = 'White'\n",
    "\n",
    "df.loc[(df['Candidate'] == 'Alison Heslin') & (df['State'] == 'NJ'), 'Race'] = 'White'\n",
    "df.loc[(df['Candidate'] == 'Mark Washburne') & (df['State'] == 'NJ'), 'Race'] = 'White'\n",
    "df.loc[(df['Candidate'] == 'Mikie Sherrill') & (df['State'] == 'NJ'), 'Race'] = 'White'\n",
    "df.loc[(df['Candidate'] == 'Mitchell Cobert') & (df['State'] == 'NJ'), 'Race'] = 'White'\n",
    "df.loc[(df['Candidate'] == 'Nathan Kleinman') & (df['State'] == 'NJ'), 'Race'] = 'White'\n",
    "df.loc[(df['Candidate'] == 'Josh Welle') & (df['State'] == 'NJ'), 'Race'] = 'White'\n",
    "df.loc[(df['Candidate'] == 'Tom Malinowski') & (df['State'] == 'NJ'), 'Race'] = 'White'\n",
    "\n",
    "df.loc[(df['Candidate'] == 'Madeline Hildebrandt') & (df['State'] == 'NM'), 'Race'] = 'White'\n",
    "\n",
    "df.loc[(df['Candidate'] == 'Chris Giunchigliani') & (df['State'] == 'NV'), 'Race'] = 'White'\n",
    "df.loc[(df['Candidate'] == 'David Jones') & (df['State'] == 'NV'), 'Race'] = 'Nonwhite'\n",
    "df.loc[(df['Candidate'] == 'John Bonaventura') & (df['State'] == 'NV'), 'Race'] = 'White'\n",
    "df.loc[(df['Candidate'] == 'Steve Sisolak') & (df['State'] == 'NV'), 'Race'] = 'White'\n",
    "\n",
    "df.loc[(df['Candidate'] == 'Clint Koble') & (df['State'] == 'NV'), 'Race'] = 'White'\n",
    "df.loc[(df['Candidate'] == 'Jesse Hurley') & (df['State'] == 'NV'), 'Race'] = 'White'\n",
    "df.loc[(df['Candidate'] == 'Patrick Fogarty') & (df['State'] == 'NV'), 'Race'] = 'White'\n",
    "df.loc[(df['Candidate'] == 'Rick Shepherd') & (df['State'] == 'NV'), 'Race'] = 'White'\n",
    "df.loc[(df['Candidate'] == 'Vance Alm') & (df['State'] == 'NV'), 'Race'] = 'White'\n",
    "df.loc[(df['Candidate'] == 'Eric Stoltz') & (df['State'] == 'NV'), 'Race'] = 'White'\n",
    "df.loc[(df['Candidate'] == 'Guy Pinjuv') & (df['State'] == 'NV'), 'Race'] = 'White'\n",
    "df.loc[(df['Candidate'] == 'Jack Love') & (df['State'] == 'NV'), 'Race'] = 'White'\n",
    "df.loc[(df['Candidate'] == 'Michael Weiss') & (df['State'] == 'NV'), 'Race'] = 'White'\n",
    "df.loc[(df['Candidate'] == 'Richard Hart') & (df['State'] == 'NV'), 'Race'] = 'White'\n",
    "df.loc[(df['Candidate'] == 'Steve Schiffman') & (df['State'] == 'NV'), 'Race'] = 'White'\n",
    "df.loc[(df['Candidate'] == 'Susie Lee') & (df['State'] == 'NV'), 'Race'] = 'White'\n",
    "df.loc[(df['Candidate'] == 'Amy Vilela') & (df['State'] == 'NV'), 'Race'] = 'White'\n",
    "df.loc[(df['Candidate'] == 'John Anzalone') & (df['State'] == 'NV'), 'Race'] = 'White'\n",
    "df.loc[(df['Candidate'] == 'Sid Zeller') & (df['State'] == 'NV'), 'Race'] = 'White'\n",
    "df.loc[(df['Candidate'] == 'Daniel Burleigh') & (df['State'] == 'NV'), 'Race'] = 'White'\n",
    "df.loc[(df['Candidate'] == 'Jacky Rosen') & (df['State'] == 'NV'), 'Race'] = 'White'\n",
    "df.loc[(df['Candidate'] == 'David Drew Knight') & (df['State'] == 'NV'), 'Race'] = 'White'\n",
    "\n",
    "df.loc[(df['Candidate'] == 'David Pechefsky') & (df['State'] == 'NY'), 'Race'] = 'White'\n",
    "df.loc[(df['Candidate'] == 'Elaine DiMasi') & (df['State'] == 'NY'), 'Race'] = 'White'\n",
    "df.loc[(df['Candidate'] == 'Perry Gershon') & (df['State'] == 'NY'), 'Race'] = 'White'\n",
    "df.loc[(df['Candidate'] == 'Max Rose') & (df['State'] == 'NY'), 'Race'] = 'White'\n",
    "df.loc[(df['Candidate'] == 'Paul Sperling') & (df['State'] == 'NY'), 'Race'] = 'White'\n",
    "df.loc[(df['Candidate'] == 'Zach Emig') & (df['State'] == 'NY'), 'Race'] = 'White'\n",
    "df.loc[(df['Candidate'] == 'David Clegg') & (df['State'] == 'NY'), 'Race'] = 'White'\n",
    "df.loc[(df['Candidate'] == 'Erin Collier') & (df['State'] == 'NY'), 'Race'] = 'White'\n",
    "df.loc[(df['Candidate'] == 'Gareth Rhodes') & (df['State'] == 'NY'), 'Race'] = 'White'\n",
    "df.loc[(df['Candidate'] == 'Jeff Beals') & (df['State'] == 'NY'), 'Race'] = 'White'\n",
    "df.loc[(df['Candidate'] == 'Pat Ryan') & (df['State'] == 'NY'), 'Race'] = 'White'\n",
    "df.loc[(df['Candidate'] == 'Liuba Grechen Shirley') & (df['State'] == 'NY'), 'Race'] = 'White'\n",
    "df.loc[(df['Candidate'] == 'Dylan Ratigan') & (df['State'] == 'NY'), 'Race'] = 'White'\n",
    "df.loc[(df['Candidate'] == 'Emily Martz') & (df['State'] == 'NY'), 'Race'] = 'White'\n",
    "df.loc[(df['Candidate'] == 'Katie Wilson') & (df['State'] == 'NY'), 'Race'] = 'White'\n",
    "df.loc[(df['Candidate'] == 'Tedra Cobb') & (df['State'] == 'NY'), 'Race'] = 'White'\n",
    "df.loc[(df['Candidate'] == 'Anthony Brindisi') & (df['State'] == 'NY'), 'Race'] = 'White'\n",
    "df.loc[(df['Candidate'] == 'Eddie Sundquist') & (df['State'] == 'NY'), 'Race'] = 'White'\n",
    "df.loc[(df['Candidate'] == 'Ian Golden') & (df['State'] == 'NY'), 'Race'] = 'White'\n",
    "df.loc[(df['Candidate'] == 'Linda Andrei') & (df['State'] == 'NY'), 'Race'] = 'White'\n",
    "df.loc[(df['Candidate'] == 'Max Della Pia') & (df['State'] == 'NY'), 'Race'] = 'White'\n",
    "df.loc[(df['Candidate'] == 'Tracy Mitrano') & (df['State'] == 'NY'), 'Race'] = 'White'\n",
    "df.loc[(df['Candidate'] == 'Dana Balter') & (df['State'] == 'NY'), 'Race'] = 'White'\n",
    "df.loc[(df['Candidate'] == 'Joseph Morelle') & (df['State'] == 'NY'), 'Race'] = 'White'\n",
    "df.loc[(df['Candidate'] == 'Rachel Barnhart') & (df['State'] == 'NY'), 'Race'] = 'White'\n",
    "\n",
    "df.loc[(df['Candidate'] == 'Amanda Douglas') & (df['State'] == 'OK'), 'Race'] = 'White'\n",
    "df.loc[(df['Candidate'] == 'David Matthew Hullum') & (df['State'] == 'OK'), 'Race'] = 'White'\n",
    "df.loc[(df['Candidate'] == 'Gwendolyn Fields') & (df['State'] == 'OK'), 'Race'] = 'Nonwhite'\n",
    "df.loc[(df['Candidate'] == 'Mark Keeter') & (df['State'] == 'OK'), 'Race'] = 'White'\n",
    "df.loc[(df['Candidate'] == 'Tim Gilpin') & (df['State'] == 'OK'), 'Race'] = 'White'\n",
    "df.loc[(df['Candidate'] == 'Clay Padgett') & (df['State'] == 'OK'), 'Race'] = 'White'\n",
    "df.loc[(df['Candidate'] == 'Virginia Jenner') & (df['State'] == 'OK'), 'Race'] = 'White'\n",
    "df.loc[(df['Candidate'] == 'Frankie Robbins') & (df['State'] == 'OK'), 'Race'] = 'White'\n",
    "df.loc[(df['Candidate'] == 'Murray Thibodeaux') & (df['State'] == 'OK'), 'Race'] = 'White'\n",
    "df.loc[(df['Candidate'] == 'Fred Gipson') & (df['State'] == 'OK'), 'Race'] = 'White'\n",
    "df.loc[(df['Candidate'] == 'Mallory Varner') & (df['State'] == 'OK'), 'Race'] = 'White'\n",
    "df.loc[(df['Candidate'] == 'Mary Brannon') & (df['State'] == 'OK'), 'Race'] = 'White'\n",
    "df.loc[(df['Candidate'] == 'Roxann Klutts') & (df['State'] == 'OK'), 'Race'] = 'White'\n",
    "df.loc[(df['Candidate'] == 'Eddie Porter') & (df['State'] == 'OK'), 'Race'] = 'White'\n",
    "df.loc[(df['Candidate'] == 'Elysabeth Britt') & (df['State'] == 'OK'), 'Race'] = 'White'\n",
    "df.loc[(df['Candidate'] == 'Kendra Horn') & (df['State'] == 'OK'), 'Race'] = 'White'\n",
    "df.loc[(df['Candidate'] == 'Leona Kelley-Leonard') & (df['State'] == 'OK'), 'Race'] = 'White'\n",
    "df.loc[(df['Candidate'] == 'Tom Guild') & (df['State'] == 'OK'), 'Race'] = 'White'\n",
    "df.loc[(df['Candidate'] == 'Tyson Todd Meade') & (df['State'] == 'OK'), 'Race'] = 'White'\n",
    "\n",
    "df.loc[(df['Candidate'] == 'Eric Burnette') & (df['State'] == 'OR'), 'Race'] = 'White'\n",
    "df.loc[(df['Candidate'] == 'Jim Crary') & (df['State'] == 'OR'), 'Race'] = 'White'\n",
    "df.loc[(df['Candidate'] == 'Michael Byrne') & (df['State'] == 'OR'), 'Race'] = 'White'\n",
    "df.loc[(df['Candidate'] == 'Raz Mason') & (df['State'] == 'OR'), 'Race'] = 'White'\n",
    "df.loc[(df['Candidate'] == 'Timothy White') & (df['State'] == 'OR'), 'Race'] = 'White'\n",
    "\n",
    "df.loc[(df['Candidate'] == 'Robert Multari') & (df['State'] == 'PA'), 'Race'] = 'White'\n",
    "df.loc[(df['Candidate'] == 'Ronald DiNicola') & (df['State'] == 'PA'), 'Race'] = 'White'\n",
    "df.loc[(df['Candidate'] == 'Richard Lazer') & (df['State'] == 'PA'), 'Race'] = 'White'\n",
    "\n",
    "df.loc[(df['Candidate'] == 'Christopher Finley') & (df['State'] == 'TN'), 'Race'] = 'White'\n",
    "df.loc[(df['Candidate'] == 'Peter Heffernan') & (df['State'] == 'TN'), 'Race'] = 'White'\n",
    "df.loc[(df['Candidate'] == 'Gary Davis') & (df['State'] == 'TN'), 'Race'] = 'White'"
   ]
  },
  {
   "cell_type": "code",
   "execution_count": 16,
   "metadata": {
    "scrolled": false
   },
   "outputs": [
    {
     "data": {
      "text/html": [
       "<div>\n",
       "<style scoped>\n",
       "    .dataframe tbody tr th:only-of-type {\n",
       "        vertical-align: middle;\n",
       "    }\n",
       "\n",
       "    .dataframe tbody tr th {\n",
       "        vertical-align: top;\n",
       "    }\n",
       "\n",
       "    .dataframe thead th {\n",
       "        text-align: right;\n",
       "    }\n",
       "</style>\n",
       "<table border=\"1\" class=\"dataframe\">\n",
       "  <thead>\n",
       "    <tr style=\"text-align: right;\">\n",
       "      <th></th>\n",
       "      <th>Candidate</th>\n",
       "      <th>State</th>\n",
       "      <th>District</th>\n",
       "      <th>Office Type</th>\n",
       "      <th>Race Type</th>\n",
       "      <th>Race Primary Election Date</th>\n",
       "      <th>Primary Status</th>\n",
       "      <th>Primary Runoff Status</th>\n",
       "      <th>General Status</th>\n",
       "      <th>Gender</th>\n",
       "      <th>Partisan Lean</th>\n",
       "      <th>Primary %</th>\n",
       "      <th>Won Primary</th>\n",
       "      <th>Race</th>\n",
       "      <th>Veteran?</th>\n",
       "      <th>LGBTQ?</th>\n",
       "      <th>Elected Official?</th>\n",
       "      <th>Self-Funder?</th>\n",
       "      <th>STEM?</th>\n",
       "      <th>Obama Alum?</th>\n",
       "    </tr>\n",
       "  </thead>\n",
       "  <tbody>\n",
       "    <tr>\n",
       "      <th>428</th>\n",
       "      <td>Jack Schofield Jr.</td>\n",
       "      <td>NV</td>\n",
       "      <td>U.S. House Nevada District 2</td>\n",
       "      <td>Representative</td>\n",
       "      <td>Regular</td>\n",
       "      <td>2018-06-12</td>\n",
       "      <td>Lost</td>\n",
       "      <td>None</td>\n",
       "      <td>None</td>\n",
       "      <td>Male</td>\n",
       "      <td>-13.78000</td>\n",
       "      <td>7.50000</td>\n",
       "      <td>No</td>\n",
       "      <td>NaN</td>\n",
       "      <td>No</td>\n",
       "      <td>No</td>\n",
       "      <td>No</td>\n",
       "      <td>No</td>\n",
       "      <td>No</td>\n",
       "      <td>No</td>\n",
       "    </tr>\n",
       "    <tr>\n",
       "      <th>525</th>\n",
       "      <td>Cody James Slatzer-Rose</td>\n",
       "      <td>OH</td>\n",
       "      <td>U.S. House Ohio District 4</td>\n",
       "      <td>Representative</td>\n",
       "      <td>Regular</td>\n",
       "      <td>2018-05-08</td>\n",
       "      <td>Lost</td>\n",
       "      <td>None</td>\n",
       "      <td>None</td>\n",
       "      <td>Male</td>\n",
       "      <td>-31.23000</td>\n",
       "      <td>16.15000</td>\n",
       "      <td>No</td>\n",
       "      <td>NaN</td>\n",
       "      <td>No</td>\n",
       "      <td>No</td>\n",
       "      <td>No</td>\n",
       "      <td>No</td>\n",
       "      <td>Yes</td>\n",
       "      <td>No</td>\n",
       "    </tr>\n",
       "    <tr>\n",
       "      <th>639</th>\n",
       "      <td>Joseph Schenkenfelder</td>\n",
       "      <td>TN</td>\n",
       "      <td>U.S. House Tennessee District 2</td>\n",
       "      <td>Representative</td>\n",
       "      <td>Regular</td>\n",
       "      <td>2018-08-02</td>\n",
       "      <td>Lost</td>\n",
       "      <td>None</td>\n",
       "      <td>None</td>\n",
       "      <td>Male</td>\n",
       "      <td>-38.18000</td>\n",
       "      <td>4.51000</td>\n",
       "      <td>No</td>\n",
       "      <td>NaN</td>\n",
       "      <td>NaN</td>\n",
       "      <td>NaN</td>\n",
       "      <td>NaN</td>\n",
       "      <td>No</td>\n",
       "      <td>NaN</td>\n",
       "      <td>No</td>\n",
       "    </tr>\n",
       "  </tbody>\n",
       "</table>\n",
       "</div>"
      ],
      "text/plain": [
       "                   Candidate State                         District  \\\n",
       "428       Jack Schofield Jr.    NV     U.S. House Nevada District 2   \n",
       "525  Cody James Slatzer-Rose    OH       U.S. House Ohio District 4   \n",
       "639    Joseph Schenkenfelder    TN  U.S. House Tennessee District 2   \n",
       "\n",
       "        Office Type Race Type Race Primary Election Date Primary Status  \\\n",
       "428  Representative   Regular                 2018-06-12           Lost   \n",
       "525  Representative   Regular                 2018-05-08           Lost   \n",
       "639  Representative   Regular                 2018-08-02           Lost   \n",
       "\n",
       "    Primary Runoff Status General Status Gender  Partisan Lean  Primary %  \\\n",
       "428                  None           None   Male      -13.78000    7.50000   \n",
       "525                  None           None   Male      -31.23000   16.15000   \n",
       "639                  None           None   Male      -38.18000    4.51000   \n",
       "\n",
       "    Won Primary Race Veteran? LGBTQ? Elected Official? Self-Funder? STEM?  \\\n",
       "428          No  NaN       No     No                No           No    No   \n",
       "525          No  NaN       No     No                No           No   Yes   \n",
       "639          No  NaN      NaN    NaN               NaN           No   NaN   \n",
       "\n",
       "    Obama Alum?  \n",
       "428          No  \n",
       "525          No  \n",
       "639          No  "
      ]
     },
     "execution_count": 16,
     "metadata": {},
     "output_type": "execute_result"
    }
   ],
   "source": [
    "df[df['Race'].isnull()]"
   ]
  },
  {
   "cell_type": "code",
   "execution_count": 17,
   "metadata": {},
   "outputs": [
    {
     "data": {
      "text/plain": [
       "3"
      ]
     },
     "execution_count": 17,
     "metadata": {},
     "output_type": "execute_result"
    }
   ],
   "source": [
    "# Post Adjustment\n",
    "df['Race'].isnull().sum()"
   ]
  },
  {
   "cell_type": "code",
   "execution_count": 18,
   "metadata": {},
   "outputs": [
    {
     "data": {
      "text/plain": [
       "White       602\n",
       "Nonwhite    206\n",
       "Name: Race, dtype: int64"
      ]
     },
     "execution_count": 18,
     "metadata": {},
     "output_type": "execute_result"
    }
   ],
   "source": [
    "df['Race'].value_counts()"
   ]
  },
  {
   "cell_type": "markdown",
   "metadata": {},
   "source": [
    "### Missing Data: Won Primary\n",
    "\n",
    "After doing the legwork to fill in the missing values, the 'Won Primary' column is missing the most values. This is an extremely important, as it's the target variable. It should also be very easy to find."
   ]
  },
  {
   "cell_type": "code",
   "execution_count": 19,
   "metadata": {},
   "outputs": [
    {
     "data": {
      "text/plain": [
       "Won Primary          26\n",
       "STEM?                11\n",
       "Elected Official?    11\n",
       "LGBTQ?               11\n",
       "Veteran?             11\n",
       "Primary %            10\n",
       "General Status        4\n",
       "Primary Status        4\n",
       "Race                  3\n",
       "Obama Alum?           1\n",
       "dtype: int64"
      ]
     },
     "execution_count": 19,
     "metadata": {},
     "output_type": "execute_result"
    }
   ],
   "source": [
    "df.isnull().sum()[df.isnull().sum() > 0].sort_values(ascending=False)"
   ]
  },
  {
   "cell_type": "markdown",
   "metadata": {},
   "source": [
    "Using the New York Times elections results pages, I filled in the available results. \n",
    "\n",
    "Washington state uses a vote-by-mail system statewide, and as of today (August 18th), only 165 of 201 precincts are reporting, so for Washington's 8th district, it's still undecided and the missing values are warranted."
   ]
  },
  {
   "cell_type": "code",
   "execution_count": 20,
   "metadata": {},
   "outputs": [],
   "source": [
    "# CA\n",
    "df.loc[(df['Candidate'] == 'Marge Doyle') & (df['State'] == 'CA'), 'Won Primary'] = 'No'\n",
    "df.loc[(df['Candidate'] == 'Rita Ramirez') & (df['State'] == 'CA'), 'Won Primary'] = 'No'\n",
    "df.loc[(df['Candidate'] == 'Ronald O\\'Donnell') & (df['State'] == 'CA'), 'Won Primary'] = 'No'\n",
    "# OK\n",
    "df.loc[(df['Candidate'] == 'Amanda Douglas') & (df['State'] == 'OK'), 'Won Primary'] = 'Yes'\n",
    "df.loc[(df['Candidate'] == 'David Matthew Hullum') & (df['State'] == 'OK'), 'Won Primary'] = 'No'\n",
    "df.loc[(df['Candidate'] == 'Gwendolyn Fields') & (df['State'] == 'OK'), 'Won Primary'] = 'No'\n",
    "df.loc[(df['Candidate'] == 'Mark Keeter') & (df['State'] == 'OK'), 'Won Primary'] = 'No'\n",
    "df.loc[(df['Candidate'] == 'Tim Gilpin') & (df['State'] == 'OK'), 'Won Primary'] = 'Yes'\n",
    "df.loc[(df['Candidate'] == 'Clay Padgett') & (df['State'] == 'OK'), 'Won Primary'] = 'Yes'\n",
    "df.loc[(df['Candidate'] == 'Elijah McIntosh') & (df['State'] == 'OK'), 'Won Primary'] = 'No'\n",
    "df.loc[(df['Candidate'] == 'Jason Nichols') & (df['State'] == 'OK'), 'Won Primary'] = 'Yes'\n",
    "df.loc[(df['Candidate'] == 'Virginia Jenner') & (df['State'] == 'OK'), 'Won Primary'] = 'No'\n",
    "df.loc[(df['Candidate'] == 'Mary Brannon') & (df['State'] == 'OK'), 'Won Primary'] = 'Yes'\n",
    "df.loc[(df['Candidate'] == 'Fred Gipson') & (df['State'] == 'OK'), 'Won Primary'] = 'Yes'\n",
    "df.loc[(df['Candidate'] == 'Mallory Varner') & (df['State'] == 'OK'), 'Won Primary'] = 'No'\n",
    "df.loc[(df['Candidate'] == 'Roxann Klutts') & (df['State'] == 'OK'), 'Won Primary'] = 'No'\n",
    "df.loc[(df['Candidate'] == 'Kendra Horn') & (df['State'] == 'OK'), 'Won Primary'] = 'Yes'\n",
    "df.loc[(df['Candidate'] == 'Tom Guild') & (df['State'] == 'OK'), 'Won Primary'] = 'Yes'\n",
    "df.loc[(df['Candidate'] == 'Elysabeth Britt') & (df['State'] == 'OK'), 'Won Primary'] = 'No'\n",
    "df.loc[(df['Candidate'] == 'Leona Kelley-Leonard') & (df['State'] == 'OK'), 'Won Primary'] = 'No'\n",
    "df.loc[(df['Candidate'] == 'Tyson Todd Meade') & (df['State'] == 'OK'), 'Won Primary'] = 'No'\n",
    "df.loc[(df['Candidate'] == 'Eddie Porter') & (df['State'] == 'OK'), 'Won Primary'] = 'No'"
   ]
  },
  {
   "cell_type": "code",
   "execution_count": 21,
   "metadata": {
    "scrolled": true
   },
   "outputs": [
    {
     "data": {
      "text/html": [
       "<div>\n",
       "<style scoped>\n",
       "    .dataframe tbody tr th:only-of-type {\n",
       "        vertical-align: middle;\n",
       "    }\n",
       "\n",
       "    .dataframe tbody tr th {\n",
       "        vertical-align: top;\n",
       "    }\n",
       "\n",
       "    .dataframe thead th {\n",
       "        text-align: right;\n",
       "    }\n",
       "</style>\n",
       "<table border=\"1\" class=\"dataframe\">\n",
       "  <thead>\n",
       "    <tr style=\"text-align: right;\">\n",
       "      <th></th>\n",
       "      <th>Candidate</th>\n",
       "      <th>State</th>\n",
       "      <th>District</th>\n",
       "      <th>Office Type</th>\n",
       "      <th>Race Type</th>\n",
       "      <th>Race Primary Election Date</th>\n",
       "      <th>Primary Status</th>\n",
       "      <th>Primary Runoff Status</th>\n",
       "      <th>General Status</th>\n",
       "      <th>Gender</th>\n",
       "      <th>Partisan Lean</th>\n",
       "      <th>Primary %</th>\n",
       "      <th>Won Primary</th>\n",
       "      <th>Race</th>\n",
       "      <th>Veteran?</th>\n",
       "      <th>LGBTQ?</th>\n",
       "      <th>Elected Official?</th>\n",
       "      <th>Self-Funder?</th>\n",
       "      <th>STEM?</th>\n",
       "      <th>Obama Alum?</th>\n",
       "    </tr>\n",
       "  </thead>\n",
       "  <tbody>\n",
       "    <tr>\n",
       "      <th>798</th>\n",
       "      <td>Jason Rittereiser</td>\n",
       "      <td>WA</td>\n",
       "      <td>U.S. House Washington District 8</td>\n",
       "      <td>Representative</td>\n",
       "      <td>Regular</td>\n",
       "      <td>2018-08-07</td>\n",
       "      <td>NaN</td>\n",
       "      <td>None</td>\n",
       "      <td>NaN</td>\n",
       "      <td>Male</td>\n",
       "      <td>0.12000</td>\n",
       "      <td>nan</td>\n",
       "      <td>NaN</td>\n",
       "      <td>White</td>\n",
       "      <td>No</td>\n",
       "      <td>No</td>\n",
       "      <td>No</td>\n",
       "      <td>No</td>\n",
       "      <td>No</td>\n",
       "      <td>No</td>\n",
       "    </tr>\n",
       "    <tr>\n",
       "      <th>799</th>\n",
       "      <td>Kim Schrier</td>\n",
       "      <td>WA</td>\n",
       "      <td>U.S. House Washington District 8</td>\n",
       "      <td>Representative</td>\n",
       "      <td>Regular</td>\n",
       "      <td>2018-08-07</td>\n",
       "      <td>NaN</td>\n",
       "      <td>None</td>\n",
       "      <td>NaN</td>\n",
       "      <td>Female</td>\n",
       "      <td>0.12000</td>\n",
       "      <td>nan</td>\n",
       "      <td>NaN</td>\n",
       "      <td>White</td>\n",
       "      <td>No</td>\n",
       "      <td>No</td>\n",
       "      <td>No</td>\n",
       "      <td>No</td>\n",
       "      <td>Yes</td>\n",
       "      <td>No</td>\n",
       "    </tr>\n",
       "    <tr>\n",
       "      <th>800</th>\n",
       "      <td>Shannon Hader</td>\n",
       "      <td>WA</td>\n",
       "      <td>U.S. House Washington District 8</td>\n",
       "      <td>Representative</td>\n",
       "      <td>Regular</td>\n",
       "      <td>2018-08-07</td>\n",
       "      <td>NaN</td>\n",
       "      <td>None</td>\n",
       "      <td>NaN</td>\n",
       "      <td>Female</td>\n",
       "      <td>0.12000</td>\n",
       "      <td>nan</td>\n",
       "      <td>NaN</td>\n",
       "      <td>White</td>\n",
       "      <td>No</td>\n",
       "      <td>No</td>\n",
       "      <td>No</td>\n",
       "      <td>Yes</td>\n",
       "      <td>Yes</td>\n",
       "      <td>No</td>\n",
       "    </tr>\n",
       "    <tr>\n",
       "      <th>801</th>\n",
       "      <td>Thomas Cramer</td>\n",
       "      <td>WA</td>\n",
       "      <td>U.S. House Washington District 8</td>\n",
       "      <td>Representative</td>\n",
       "      <td>Regular</td>\n",
       "      <td>2018-08-07</td>\n",
       "      <td>NaN</td>\n",
       "      <td>None</td>\n",
       "      <td>NaN</td>\n",
       "      <td>Male</td>\n",
       "      <td>0.12000</td>\n",
       "      <td>nan</td>\n",
       "      <td>NaN</td>\n",
       "      <td>White</td>\n",
       "      <td>No</td>\n",
       "      <td>No</td>\n",
       "      <td>No</td>\n",
       "      <td>No</td>\n",
       "      <td>No</td>\n",
       "      <td>No</td>\n",
       "    </tr>\n",
       "  </tbody>\n",
       "</table>\n",
       "</div>"
      ],
      "text/plain": [
       "             Candidate State                          District  \\\n",
       "798  Jason Rittereiser    WA  U.S. House Washington District 8   \n",
       "799        Kim Schrier    WA  U.S. House Washington District 8   \n",
       "800      Shannon Hader    WA  U.S. House Washington District 8   \n",
       "801      Thomas Cramer    WA  U.S. House Washington District 8   \n",
       "\n",
       "        Office Type Race Type Race Primary Election Date Primary Status  \\\n",
       "798  Representative   Regular                 2018-08-07            NaN   \n",
       "799  Representative   Regular                 2018-08-07            NaN   \n",
       "800  Representative   Regular                 2018-08-07            NaN   \n",
       "801  Representative   Regular                 2018-08-07            NaN   \n",
       "\n",
       "    Primary Runoff Status General Status  Gender  Partisan Lean  Primary %  \\\n",
       "798                  None            NaN    Male        0.12000        nan   \n",
       "799                  None            NaN  Female        0.12000        nan   \n",
       "800                  None            NaN  Female        0.12000        nan   \n",
       "801                  None            NaN    Male        0.12000        nan   \n",
       "\n",
       "    Won Primary   Race Veteran? LGBTQ? Elected Official? Self-Funder? STEM?  \\\n",
       "798         NaN  White       No     No                No           No    No   \n",
       "799         NaN  White       No     No                No           No   Yes   \n",
       "800         NaN  White       No     No                No          Yes   Yes   \n",
       "801         NaN  White       No     No                No           No    No   \n",
       "\n",
       "    Obama Alum?  \n",
       "798          No  \n",
       "799          No  \n",
       "800          No  \n",
       "801          No  "
      ]
     },
     "execution_count": 21,
     "metadata": {},
     "output_type": "execute_result"
    }
   ],
   "source": [
    "df[df['Won Primary'].isnull()]"
   ]
  },
  {
   "cell_type": "code",
   "execution_count": 22,
   "metadata": {},
   "outputs": [
    {
     "data": {
      "text/plain": [
       "STEM?                11\n",
       "Elected Official?    11\n",
       "LGBTQ?               11\n",
       "Veteran?             11\n",
       "Primary %            10\n",
       "Won Primary           4\n",
       "General Status        4\n",
       "Primary Status        4\n",
       "Race                  3\n",
       "Obama Alum?           1\n",
       "dtype: int64"
      ]
     },
     "execution_count": 22,
     "metadata": {},
     "output_type": "execute_result"
    }
   ],
   "source": [
    "df.isnull().sum()[df.isnull().sum() > 0].sort_values(ascending=False)"
   ]
  },
  {
   "cell_type": "markdown",
   "metadata": {},
   "source": [
    "### Missing Data: Elected Official\n",
    "\n",
    "Per FiveThirtyEight's data description, this feature describes whether a candidate has ever held political office before. This should be available information, but it may be difficult to be positive. There's only 11 candidates, so I'll attempt searching. I googled for news instances of the candidates name prior to 6/1/2017, as local/regional papers would cover elections, and I also briefly checked recent news for any statements by the candidates. Generally, I will consider an absence of evidence to be evidence of absence. "
   ]
  },
  {
   "cell_type": "code",
   "execution_count": 23,
   "metadata": {},
   "outputs": [],
   "source": [
    "df.loc[(df['Candidate'] == 'Roland Ellis') & (df['State'] == 'IN'), 'Elected Official?'] = 'No'\n",
    "df.loc[(df['Candidate'] == 'Michael Brown') & (df['State'] == 'MD'), 'Elected Official?'] = 'No'\n",
    "df.loc[(df['Candidate'] == 'Michael McCarthy (Michigan)') & (df['State'] == 'MI'), 'Elected Official?'] = 'No'\n",
    "df.loc[(df['Candidate'] == 'Ed Andres') & (df['State'] == 'MO'), 'Elected Official?'] = 'No'\n",
    "df.loc[(df['Candidate'] == 'Kenneth Hatfield') & (df['State'] == 'MO'), 'Elected Official?'] = 'No'\n",
    "df.loc[(df['Candidate'] == 'Vincent Jennings') & (df['State'] == 'MO'), 'Elected Official?'] = 'No'\n",
    "df.loc[(df['Candidate'] == 'Richard Lazer') & (df['State'] == 'PA'), 'Elected Official?'] = 'No'\n",
    "df.loc[(df['Candidate'] == 'Joseph Schenkenfelder') & (df['State'] == 'TN'), 'Elected Official?'] = 'No'\n",
    "df.loc[(df['Candidate'] == 'Christopher Finley') & (df['State'] == 'TN'), 'Elected Official?'] = 'No'\n",
    "df.loc[(df['Candidate'] == 'Peter Heffernan') & (df['State'] == 'TN'), 'Elected Official?'] = 'No'\n",
    "df.loc[(df['Candidate'] == 'Gary Davis') & (df['State'] == 'TN'), 'Elected Official?'] = 'No'"
   ]
  },
  {
   "cell_type": "code",
   "execution_count": 24,
   "metadata": {},
   "outputs": [
    {
     "data": {
      "text/plain": [
       "STEM?             11\n",
       "LGBTQ?            11\n",
       "Veteran?          11\n",
       "Primary %         10\n",
       "Won Primary        4\n",
       "General Status     4\n",
       "Primary Status     4\n",
       "Race               3\n",
       "Obama Alum?        1\n",
       "dtype: int64"
      ]
     },
     "execution_count": 24,
     "metadata": {},
     "output_type": "execute_result"
    }
   ],
   "source": [
    "df.isnull().sum()[df.isnull().sum() > 0].sort_values(ascending=False)"
   ]
  },
  {
   "cell_type": "markdown",
   "metadata": {},
   "source": [
    "### Missing Data: Veteran\n",
    "\n",
    "This is the same group that was missing data for the Elected Official feature. This made it fairly easy to do, as I mostly ascertained the occupations of this set of candidates in the previous step. "
   ]
  },
  {
   "cell_type": "code",
   "execution_count": 25,
   "metadata": {},
   "outputs": [],
   "source": [
    "df.loc[(df['Candidate'] == 'Roland Ellis') & (df['State'] == 'IN'), 'Veteran?'] = 'Yes'\n",
    "df.loc[(df['Candidate'] == 'Michael Brown') & (df['State'] == 'MD'), 'Veteran?'] = 'No'\n",
    "df.loc[(df['Candidate'] == 'Michael McCarthy (Michigan)') & (df['State'] == 'MI'), 'Veteran?'] = 'No'\n",
    "df.loc[(df['Candidate'] == 'Ed Andres') & (df['State'] == 'MO'), 'Veteran?'] = 'No'\n",
    "df.loc[(df['Candidate'] == 'Kenneth Hatfield') & (df['State'] == 'MO'), 'Veteran?'] = 'No'\n",
    "df.loc[(df['Candidate'] == 'Vincent Jennings') & (df['State'] == 'MO'), 'Veteran?'] = 'No'\n",
    "df.loc[(df['Candidate'] == 'Richard Lazer') & (df['State'] == 'PA'), 'Veteran?'] = 'No'\n",
    "df.loc[(df['Candidate'] == 'Joseph Schenkenfelder') & (df['State'] == 'TN'), 'Veteran?'] = 'No'\n",
    "df.loc[(df['Candidate'] == 'Christopher Finley') & (df['State'] == 'TN'), 'Veteran?'] = 'No'\n",
    "df.loc[(df['Candidate'] == 'Peter Heffernan') & (df['State'] == 'TN'), 'Veteran?'] = 'No'\n",
    "df.loc[(df['Candidate'] == 'Gary Davis') & (df['State'] == 'TN'), 'Veteran?'] = 'No'"
   ]
  },
  {
   "cell_type": "code",
   "execution_count": 26,
   "metadata": {},
   "outputs": [
    {
     "data": {
      "text/plain": [
       "STEM?             11\n",
       "LGBTQ?            11\n",
       "Primary %         10\n",
       "Won Primary        4\n",
       "General Status     4\n",
       "Primary Status     4\n",
       "Race               3\n",
       "Obama Alum?        1\n",
       "dtype: int64"
      ]
     },
     "execution_count": 26,
     "metadata": {},
     "output_type": "execute_result"
    }
   ],
   "source": [
    "df.isnull().sum()[df.isnull().sum() > 0].sort_values(ascending=False)"
   ]
  },
  {
   "cell_type": "markdown",
   "metadata": {},
   "source": [
    "### Missing Data: STEM\n",
    "\n",
    "Again, this is the same group. Ed Andres is a medical doctor, and the remainder of these candidates were not from a STEM field."
   ]
  },
  {
   "cell_type": "code",
   "execution_count": 27,
   "metadata": {},
   "outputs": [],
   "source": [
    "df.loc[(df['Candidate'] == 'Roland Ellis') & (df['State'] == 'IN'), 'STEM?'] = 'No'\n",
    "df.loc[(df['Candidate'] == 'Michael Brown') & (df['State'] == 'MD'), 'STEM?'] = 'No'\n",
    "df.loc[(df['Candidate'] == 'Michael McCarthy (Michigan)') & (df['State'] == 'MI'), 'STEM?'] = 'No'\n",
    "df.loc[(df['Candidate'] == 'Ed Andres') & (df['State'] == 'MO'), 'STEM?'] = 'Yes'\n",
    "df.loc[(df['Candidate'] == 'Kenneth Hatfield') & (df['State'] == 'MO'), 'STEM?'] = 'No'\n",
    "df.loc[(df['Candidate'] == 'Vincent Jennings') & (df['State'] == 'MO'), 'STEM?'] = 'No'\n",
    "df.loc[(df['Candidate'] == 'Richard Lazer') & (df['State'] == 'PA'), 'STEM?'] = 'No'\n",
    "df.loc[(df['Candidate'] == 'Joseph Schenkenfelder') & (df['State'] == 'TN'), 'STEM?'] = 'No'\n",
    "df.loc[(df['Candidate'] == 'Christopher Finley') & (df['State'] == 'TN'), 'STEM?'] = 'No'\n",
    "df.loc[(df['Candidate'] == 'Peter Heffernan') & (df['State'] == 'TN'), 'STEM?'] = 'No'\n",
    "df.loc[(df['Candidate'] == 'Gary Davis') & (df['State'] == 'TN'), 'STEM?'] = 'No'"
   ]
  },
  {
   "cell_type": "code",
   "execution_count": 28,
   "metadata": {},
   "outputs": [
    {
     "data": {
      "text/plain": [
       "LGBTQ?            11\n",
       "Primary %         10\n",
       "Won Primary        4\n",
       "General Status     4\n",
       "Primary Status     4\n",
       "Race               3\n",
       "Obama Alum?        1\n",
       "dtype: int64"
      ]
     },
     "execution_count": 28,
     "metadata": {},
     "output_type": "execute_result"
    }
   ],
   "source": [
    "df.isnull().sum()[df.isnull().sum() > 0].sort_values(ascending=False)"
   ]
  },
  {
   "cell_type": "markdown",
   "metadata": {},
   "source": [
    "### Missing Data: LGBTQ?\n",
    "\n",
    "This one is less clear. It seems like it would only be a factor if the candidates openly came out as LGBTQ. All of these candidates had very little campaign presence, so I'm comfortable simply imputing the most common value, and from the printout below, we see that Non-LGBTQ is (predictably) the most common value. "
   ]
  },
  {
   "cell_type": "code",
   "execution_count": 29,
   "metadata": {},
   "outputs": [
    {
     "data": {
      "text/plain": [
       "210                   Roland Ellis\n",
       "271                  Michael Brown\n",
       "298    Michael McCarthy (Michigan)\n",
       "338                      Ed Andres\n",
       "343               Kenneth Hatfield\n",
       "344               Vincent Jennings\n",
       "597                  Richard Lazer\n",
       "639          Joseph Schenkenfelder\n",
       "646             Christopher Finley\n",
       "649                Peter Heffernan\n",
       "654                     Gary Davis\n",
       "Name: Candidate, dtype: object"
      ]
     },
     "execution_count": 29,
     "metadata": {},
     "output_type": "execute_result"
    }
   ],
   "source": [
    "df[df['LGBTQ?'].isnull()]['Candidate']"
   ]
  },
  {
   "cell_type": "code",
   "execution_count": 30,
   "metadata": {},
   "outputs": [
    {
     "data": {
      "text/plain": [
       "No     763\n",
       "Yes     37\n",
       "Name: LGBTQ?, dtype: int64"
      ]
     },
     "execution_count": 30,
     "metadata": {},
     "output_type": "execute_result"
    }
   ],
   "source": [
    "# What is the most common value for the LGBTQ feature\n",
    "df['LGBTQ?'].value_counts()"
   ]
  },
  {
   "cell_type": "code",
   "execution_count": 31,
   "metadata": {},
   "outputs": [],
   "source": [
    "df.loc[(df['Candidate'] == 'Roland Ellis') & (df['State'] == 'IN'), 'LGBTQ?'] = 'No'\n",
    "df.loc[(df['Candidate'] == 'Michael Brown') & (df['State'] == 'MD'), 'LGBTQ?'] = 'No'\n",
    "df.loc[(df['Candidate'] == 'Michael McCarthy (Michigan)') & (df['State'] == 'MI'), 'LGBTQ?'] = 'No'\n",
    "df.loc[(df['Candidate'] == 'Ed Andres') & (df['State'] == 'MO'), 'LGBTQ?'] = 'No'\n",
    "df.loc[(df['Candidate'] == 'Kenneth Hatfield') & (df['State'] == 'MO'), 'LGBTQ?'] = 'No'\n",
    "df.loc[(df['Candidate'] == 'Vincent Jennings') & (df['State'] == 'MO'), 'LGBTQ?'] = 'No'\n",
    "df.loc[(df['Candidate'] == 'Richard Lazer') & (df['State'] == 'PA'), 'LGBTQ?'] = 'No'\n",
    "df.loc[(df['Candidate'] == 'Joseph Schenkenfelder') & (df['State'] == 'TN'), 'LGBTQ?'] = 'No'\n",
    "df.loc[(df['Candidate'] == 'Christopher Finley') & (df['State'] == 'TN'), 'LGBTQ?'] = 'No'\n",
    "df.loc[(df['Candidate'] == 'Peter Heffernan') & (df['State'] == 'TN'), 'LGBTQ?'] = 'No'\n",
    "df.loc[(df['Candidate'] == 'Gary Davis') & (df['State'] == 'TN'), 'LGBTQ?'] = 'No'"
   ]
  },
  {
   "cell_type": "markdown",
   "metadata": {},
   "source": [
    "### Missing Data: Primary %\n",
    "\n",
    "This is an interesting one. All of these people are from Washington state, which uses only mail-in-voting (as was mentioned earlier), and they haven't finished counting the votes. Consequently, the % of the vote that each candidate won is still unknown (as of 8/18/18). As this group is missing the output value (win/lose), I'll exclude them from the modeling."
   ]
  },
  {
   "cell_type": "code",
   "execution_count": 32,
   "metadata": {},
   "outputs": [
    {
     "data": {
      "text/html": [
       "<div>\n",
       "<style scoped>\n",
       "    .dataframe tbody tr th:only-of-type {\n",
       "        vertical-align: middle;\n",
       "    }\n",
       "\n",
       "    .dataframe tbody tr th {\n",
       "        vertical-align: top;\n",
       "    }\n",
       "\n",
       "    .dataframe thead th {\n",
       "        text-align: right;\n",
       "    }\n",
       "</style>\n",
       "<table border=\"1\" class=\"dataframe\">\n",
       "  <thead>\n",
       "    <tr style=\"text-align: right;\">\n",
       "      <th></th>\n",
       "      <th>Candidate</th>\n",
       "      <th>State</th>\n",
       "      <th>District</th>\n",
       "      <th>Primary %</th>\n",
       "    </tr>\n",
       "  </thead>\n",
       "  <tbody>\n",
       "    <tr>\n",
       "      <th>792</th>\n",
       "      <td>Carolyn Long</td>\n",
       "      <td>WA</td>\n",
       "      <td>U.S. House Washington District 3</td>\n",
       "      <td>nan</td>\n",
       "    </tr>\n",
       "    <tr>\n",
       "      <th>793</th>\n",
       "      <td>David McDevitt</td>\n",
       "      <td>WA</td>\n",
       "      <td>U.S. House Washington District 3</td>\n",
       "      <td>nan</td>\n",
       "    </tr>\n",
       "    <tr>\n",
       "      <th>794</th>\n",
       "      <td>Dorothy Gasque</td>\n",
       "      <td>WA</td>\n",
       "      <td>U.S. House Washington District 3</td>\n",
       "      <td>nan</td>\n",
       "    </tr>\n",
       "    <tr>\n",
       "      <th>795</th>\n",
       "      <td>Martin Hash</td>\n",
       "      <td>WA</td>\n",
       "      <td>U.S. House Washington District 3</td>\n",
       "      <td>nan</td>\n",
       "    </tr>\n",
       "    <tr>\n",
       "      <th>796</th>\n",
       "      <td>Christine Brown</td>\n",
       "      <td>WA</td>\n",
       "      <td>U.S. House Washington District 4</td>\n",
       "      <td>nan</td>\n",
       "    </tr>\n",
       "    <tr>\n",
       "      <th>797</th>\n",
       "      <td>Lisa Brown</td>\n",
       "      <td>WA</td>\n",
       "      <td>U.S. House Washington District 5</td>\n",
       "      <td>nan</td>\n",
       "    </tr>\n",
       "    <tr>\n",
       "      <th>798</th>\n",
       "      <td>Jason Rittereiser</td>\n",
       "      <td>WA</td>\n",
       "      <td>U.S. House Washington District 8</td>\n",
       "      <td>nan</td>\n",
       "    </tr>\n",
       "    <tr>\n",
       "      <th>799</th>\n",
       "      <td>Kim Schrier</td>\n",
       "      <td>WA</td>\n",
       "      <td>U.S. House Washington District 8</td>\n",
       "      <td>nan</td>\n",
       "    </tr>\n",
       "    <tr>\n",
       "      <th>800</th>\n",
       "      <td>Shannon Hader</td>\n",
       "      <td>WA</td>\n",
       "      <td>U.S. House Washington District 8</td>\n",
       "      <td>nan</td>\n",
       "    </tr>\n",
       "    <tr>\n",
       "      <th>801</th>\n",
       "      <td>Thomas Cramer</td>\n",
       "      <td>WA</td>\n",
       "      <td>U.S. House Washington District 8</td>\n",
       "      <td>nan</td>\n",
       "    </tr>\n",
       "  </tbody>\n",
       "</table>\n",
       "</div>"
      ],
      "text/plain": [
       "             Candidate State                          District  Primary %\n",
       "792       Carolyn Long    WA  U.S. House Washington District 3        nan\n",
       "793     David McDevitt    WA  U.S. House Washington District 3        nan\n",
       "794     Dorothy Gasque    WA  U.S. House Washington District 3        nan\n",
       "795        Martin Hash    WA  U.S. House Washington District 3        nan\n",
       "796    Christine Brown    WA  U.S. House Washington District 4        nan\n",
       "797         Lisa Brown    WA  U.S. House Washington District 5        nan\n",
       "798  Jason Rittereiser    WA  U.S. House Washington District 8        nan\n",
       "799        Kim Schrier    WA  U.S. House Washington District 8        nan\n",
       "800      Shannon Hader    WA  U.S. House Washington District 8        nan\n",
       "801      Thomas Cramer    WA  U.S. House Washington District 8        nan"
      ]
     },
     "execution_count": 32,
     "metadata": {},
     "output_type": "execute_result"
    }
   ],
   "source": [
    "df[df['Primary %'].isnull()][['Candidate', 'State', 'District', 'Primary %']]"
   ]
  },
  {
   "cell_type": "code",
   "execution_count": 33,
   "metadata": {},
   "outputs": [
    {
     "data": {
      "text/html": [
       "<div>\n",
       "<style scoped>\n",
       "    .dataframe tbody tr th:only-of-type {\n",
       "        vertical-align: middle;\n",
       "    }\n",
       "\n",
       "    .dataframe tbody tr th {\n",
       "        vertical-align: top;\n",
       "    }\n",
       "\n",
       "    .dataframe thead th {\n",
       "        text-align: right;\n",
       "    }\n",
       "</style>\n",
       "<table border=\"1\" class=\"dataframe\">\n",
       "  <thead>\n",
       "    <tr style=\"text-align: right;\">\n",
       "      <th></th>\n",
       "      <th>Candidate</th>\n",
       "      <th>State</th>\n",
       "      <th>District</th>\n",
       "      <th>Office Type</th>\n",
       "      <th>Race Type</th>\n",
       "      <th>Race Primary Election Date</th>\n",
       "      <th>Primary Status</th>\n",
       "      <th>Primary Runoff Status</th>\n",
       "      <th>General Status</th>\n",
       "      <th>Gender</th>\n",
       "      <th>Partisan Lean</th>\n",
       "      <th>Primary %</th>\n",
       "      <th>Won Primary</th>\n",
       "      <th>Race</th>\n",
       "      <th>Veteran?</th>\n",
       "      <th>LGBTQ?</th>\n",
       "      <th>Elected Official?</th>\n",
       "      <th>Self-Funder?</th>\n",
       "      <th>STEM?</th>\n",
       "      <th>Obama Alum?</th>\n",
       "    </tr>\n",
       "  </thead>\n",
       "  <tbody>\n",
       "    <tr>\n",
       "      <th>0</th>\n",
       "      <td>Anthony White (Alabama)</td>\n",
       "      <td>AL</td>\n",
       "      <td>Governor of Alabama</td>\n",
       "      <td>Governor</td>\n",
       "      <td>Regular</td>\n",
       "      <td>2018-06-05</td>\n",
       "      <td>Lost</td>\n",
       "      <td>None</td>\n",
       "      <td>None</td>\n",
       "      <td>Male</td>\n",
       "      <td>-28.88000</td>\n",
       "      <td>3.42000</td>\n",
       "      <td>No</td>\n",
       "      <td>Nonwhite</td>\n",
       "      <td>Yes</td>\n",
       "      <td>No</td>\n",
       "      <td>No</td>\n",
       "      <td>No</td>\n",
       "      <td>No</td>\n",
       "      <td>No</td>\n",
       "    </tr>\n",
       "    <tr>\n",
       "      <th>1</th>\n",
       "      <td>Christopher Countryman</td>\n",
       "      <td>AL</td>\n",
       "      <td>Governor of Alabama</td>\n",
       "      <td>Governor</td>\n",
       "      <td>Regular</td>\n",
       "      <td>2018-06-05</td>\n",
       "      <td>Lost</td>\n",
       "      <td>None</td>\n",
       "      <td>None</td>\n",
       "      <td>Male</td>\n",
       "      <td>-28.88000</td>\n",
       "      <td>1.74000</td>\n",
       "      <td>No</td>\n",
       "      <td>White</td>\n",
       "      <td>No</td>\n",
       "      <td>Yes</td>\n",
       "      <td>No</td>\n",
       "      <td>No</td>\n",
       "      <td>No</td>\n",
       "      <td>No</td>\n",
       "    </tr>\n",
       "    <tr>\n",
       "      <th>2</th>\n",
       "      <td>Doug \"New Blue\" Smith</td>\n",
       "      <td>AL</td>\n",
       "      <td>Governor of Alabama</td>\n",
       "      <td>Governor</td>\n",
       "      <td>Regular</td>\n",
       "      <td>2018-06-05</td>\n",
       "      <td>Lost</td>\n",
       "      <td>None</td>\n",
       "      <td>None</td>\n",
       "      <td>Male</td>\n",
       "      <td>-28.88000</td>\n",
       "      <td>3.27000</td>\n",
       "      <td>No</td>\n",
       "      <td>White</td>\n",
       "      <td>Yes</td>\n",
       "      <td>No</td>\n",
       "      <td>No</td>\n",
       "      <td>No</td>\n",
       "      <td>No</td>\n",
       "      <td>No</td>\n",
       "    </tr>\n",
       "    <tr>\n",
       "      <th>3</th>\n",
       "      <td>James C. Fields</td>\n",
       "      <td>AL</td>\n",
       "      <td>Governor of Alabama</td>\n",
       "      <td>Governor</td>\n",
       "      <td>Regular</td>\n",
       "      <td>2018-06-05</td>\n",
       "      <td>Lost</td>\n",
       "      <td>None</td>\n",
       "      <td>None</td>\n",
       "      <td>Male</td>\n",
       "      <td>-28.88000</td>\n",
       "      <td>8.00000</td>\n",
       "      <td>No</td>\n",
       "      <td>Nonwhite</td>\n",
       "      <td>Yes</td>\n",
       "      <td>No</td>\n",
       "      <td>Yes</td>\n",
       "      <td>No</td>\n",
       "      <td>No</td>\n",
       "      <td>No</td>\n",
       "    </tr>\n",
       "    <tr>\n",
       "      <th>4</th>\n",
       "      <td>Sue Bell Cobb</td>\n",
       "      <td>AL</td>\n",
       "      <td>Governor of Alabama</td>\n",
       "      <td>Governor</td>\n",
       "      <td>Regular</td>\n",
       "      <td>2018-06-05</td>\n",
       "      <td>Lost</td>\n",
       "      <td>None</td>\n",
       "      <td>None</td>\n",
       "      <td>Female</td>\n",
       "      <td>-28.88000</td>\n",
       "      <td>28.98000</td>\n",
       "      <td>No</td>\n",
       "      <td>White</td>\n",
       "      <td>No</td>\n",
       "      <td>No</td>\n",
       "      <td>Yes</td>\n",
       "      <td>No</td>\n",
       "      <td>No</td>\n",
       "      <td>No</td>\n",
       "    </tr>\n",
       "  </tbody>\n",
       "</table>\n",
       "</div>"
      ],
      "text/plain": [
       "                 Candidate State             District Office Type Race Type  \\\n",
       "0  Anthony White (Alabama)    AL  Governor of Alabama    Governor   Regular   \n",
       "1   Christopher Countryman    AL  Governor of Alabama    Governor   Regular   \n",
       "2    Doug \"New Blue\" Smith    AL  Governor of Alabama    Governor   Regular   \n",
       "3          James C. Fields    AL  Governor of Alabama    Governor   Regular   \n",
       "4            Sue Bell Cobb    AL  Governor of Alabama    Governor   Regular   \n",
       "\n",
       "  Race Primary Election Date Primary Status Primary Runoff Status  \\\n",
       "0                 2018-06-05           Lost                  None   \n",
       "1                 2018-06-05           Lost                  None   \n",
       "2                 2018-06-05           Lost                  None   \n",
       "3                 2018-06-05           Lost                  None   \n",
       "4                 2018-06-05           Lost                  None   \n",
       "\n",
       "  General Status  Gender  Partisan Lean  Primary % Won Primary      Race  \\\n",
       "0           None    Male      -28.88000    3.42000          No  Nonwhite   \n",
       "1           None    Male      -28.88000    1.74000          No     White   \n",
       "2           None    Male      -28.88000    3.27000          No     White   \n",
       "3           None    Male      -28.88000    8.00000          No  Nonwhite   \n",
       "4           None  Female      -28.88000   28.98000          No     White   \n",
       "\n",
       "  Veteran? LGBTQ? Elected Official? Self-Funder? STEM? Obama Alum?  \n",
       "0      Yes     No                No           No    No          No  \n",
       "1       No    Yes                No           No    No          No  \n",
       "2      Yes     No                No           No    No          No  \n",
       "3      Yes     No               Yes           No    No          No  \n",
       "4       No     No               Yes           No    No          No  "
      ]
     },
     "execution_count": 33,
     "metadata": {},
     "output_type": "execute_result"
    }
   ],
   "source": [
    "df_finalized = df[df['State'] != 'WA'].copy()\n",
    "df_finalized.head()"
   ]
  },
  {
   "cell_type": "markdown",
   "metadata": {},
   "source": [
    "### Missing Data: Obama Alum?\n",
    "\n",
    "After setting aside the Washington state group for which we don't yet have full results, we see that the only remaining unaddressed missing data is for the 'Obama Alum?' feature, and it's someone from the same set that's missing most of their features. I barely found any information about this candidate, Michael Brown, so I'll just impute the most common value."
   ]
  },
  {
   "cell_type": "code",
   "execution_count": 34,
   "metadata": {},
   "outputs": [
    {
     "data": {
      "text/plain": [
       "Race           3\n",
       "Obama Alum?    1\n",
       "dtype: int64"
      ]
     },
     "execution_count": 34,
     "metadata": {},
     "output_type": "execute_result"
    }
   ],
   "source": [
    "df_finalized.isnull().sum()[df_finalized.isnull().sum() > 0].sort_values(ascending=False)"
   ]
  },
  {
   "cell_type": "code",
   "execution_count": 35,
   "metadata": {},
   "outputs": [
    {
     "data": {
      "text/html": [
       "<div>\n",
       "<style scoped>\n",
       "    .dataframe tbody tr th:only-of-type {\n",
       "        vertical-align: middle;\n",
       "    }\n",
       "\n",
       "    .dataframe tbody tr th {\n",
       "        vertical-align: top;\n",
       "    }\n",
       "\n",
       "    .dataframe thead th {\n",
       "        text-align: right;\n",
       "    }\n",
       "</style>\n",
       "<table border=\"1\" class=\"dataframe\">\n",
       "  <thead>\n",
       "    <tr style=\"text-align: right;\">\n",
       "      <th></th>\n",
       "      <th>Candidate</th>\n",
       "      <th>State</th>\n",
       "      <th>District</th>\n",
       "      <th>Obama Alum?</th>\n",
       "    </tr>\n",
       "  </thead>\n",
       "  <tbody>\n",
       "    <tr>\n",
       "      <th>271</th>\n",
       "      <td>Michael Brown</td>\n",
       "      <td>MD</td>\n",
       "      <td>U.S. House Maryland District 1</td>\n",
       "      <td>NaN</td>\n",
       "    </tr>\n",
       "  </tbody>\n",
       "</table>\n",
       "</div>"
      ],
      "text/plain": [
       "         Candidate State                        District Obama Alum?\n",
       "271  Michael Brown    MD  U.S. House Maryland District 1         NaN"
      ]
     },
     "execution_count": 35,
     "metadata": {},
     "output_type": "execute_result"
    }
   ],
   "source": [
    "df_finalized[df_finalized['Obama Alum?'].isnull()][['Candidate', 'State', 'District', 'Obama Alum?']]"
   ]
  },
  {
   "cell_type": "code",
   "execution_count": 36,
   "metadata": {},
   "outputs": [
    {
     "data": {
      "text/plain": [
       "No     766\n",
       "Yes     34\n",
       "Name: Obama Alum?, dtype: int64"
      ]
     },
     "execution_count": 36,
     "metadata": {},
     "output_type": "execute_result"
    }
   ],
   "source": [
    "df_finalized['Obama Alum?'].value_counts()"
   ]
  },
  {
   "cell_type": "markdown",
   "metadata": {},
   "source": [
    "# Feature Engineering"
   ]
  },
  {
   "cell_type": "markdown",
   "metadata": {},
   "source": [
    "### Feature Engineering: Redundant output features\n",
    "\n",
    "While working through the missing data problem, I noticed that 4 columns seemed extremely closely related, namely ['General Status', 'Primary Status', 'Primary Runoff Status', and 'Won Primary'].\n",
    "\n",
    "Per [FiveThirtyEight's data descriptions](https://github.com/fivethirtyeight/data/tree/master/primary-candidates-2018)\n",
    "* **General Status:** “On the Ballot” if the candidate won the primary or runoff and has advanced to November; otherwise, “None.” Supplied by Ballotpedia.\n",
    "* **Primary Status:** Whether the candidate lost (“Lost”) the primary or won/advanced to a runoff (“Advanced”). Supplied by Ballotpedia.\n",
    "* **Primary Runoff Status:** “None” if there was no runoff; “On the Ballot” if the candidate advanced to a runoff but it hasn’t been held yet; “Advanced” if the candidate won the runoff; “Lost” if the candidate lost the runoff. Supplied by Ballotpedia.\n",
    "* **Won Primary:** “Yes” if the candidate won his or her primary and has advanced to November; “No” if he or she lost.\n",
    "\n",
    "From the value counts and arithmetic below, we see that these columns are all directly related. It appears these columns only account for the fact that some people simply advanced to a runoff election. For the questions I'm interested in exploring, runoffs aren't relevant. I'm interested in the profile of candidates that win. \n",
    "\n",
    "As these features contain essentially the same information, they should be removed from the dataset, as they would lead the model astray."
   ]
  },
  {
   "cell_type": "code",
   "execution_count": 37,
   "metadata": {},
   "outputs": [
    {
     "data": {
      "text/plain": [
       "Lost        540\n",
       "Advanced    261\n",
       "Name: Primary Status, dtype: int64"
      ]
     },
     "execution_count": 37,
     "metadata": {},
     "output_type": "execute_result"
    }
   ],
   "source": [
    "df_finalized['Primary Status'].value_counts()"
   ]
  },
  {
   "cell_type": "code",
   "execution_count": 38,
   "metadata": {},
   "outputs": [
    {
     "data": {
      "text/plain": [
       "None             566\n",
       "On the Ballot    235\n",
       "Name: General Status, dtype: int64"
      ]
     },
     "execution_count": 38,
     "metadata": {},
     "output_type": "execute_result"
    }
   ],
   "source": [
    "df_finalized['General Status'].value_counts()"
   ]
  },
  {
   "cell_type": "code",
   "execution_count": 39,
   "metadata": {},
   "outputs": [
    {
     "data": {
      "text/plain": [
       "No     558\n",
       "Yes    243\n",
       "Name: Won Primary, dtype: int64"
      ]
     },
     "execution_count": 39,
     "metadata": {},
     "output_type": "execute_result"
    }
   ],
   "source": [
    "df_finalized['Won Primary'].value_counts()"
   ]
  },
  {
   "cell_type": "code",
   "execution_count": 40,
   "metadata": {},
   "outputs": [
    {
     "data": {
      "text/plain": [
       "None             757\n",
       "Advanced          18\n",
       "Lost              18\n",
       "On the Ballot      8\n",
       "Name: Primary Runoff Status, dtype: int64"
      ]
     },
     "execution_count": 40,
     "metadata": {},
     "output_type": "execute_result"
    }
   ],
   "source": [
    "df_finalized['Primary Runoff Status'].value_counts()"
   ]
  },
  {
   "cell_type": "code",
   "execution_count": 41,
   "metadata": {},
   "outputs": [
    {
     "data": {
      "text/plain": [
       "261"
      ]
     },
     "execution_count": 41,
     "metadata": {},
     "output_type": "execute_result"
    }
   ],
   "source": [
    "# (Won Primary == Yes) + (Primary Runoff Status == Advanced) \n",
    "243 + 18"
   ]
  },
  {
   "cell_type": "code",
   "execution_count": 42,
   "metadata": {},
   "outputs": [
    {
     "data": {
      "text/plain": [
       "235"
      ]
     },
     "execution_count": 42,
     "metadata": {},
     "output_type": "execute_result"
    }
   ],
   "source": [
    "# (Primary Status == Advanced) - (Primary Runoff Status == (Advanced OR On the Ballot))\n",
    "261 - 18 - 8"
   ]
  },
  {
   "cell_type": "code",
   "execution_count": 43,
   "metadata": {},
   "outputs": [],
   "source": [
    "df_finalized.drop(['Primary Runoff Status', 'General Status', 'Won Primary'], axis=1, inplace=True)"
   ]
  },
  {
   "cell_type": "code",
   "execution_count": 44,
   "metadata": {},
   "outputs": [],
   "source": [
    "df_finalized.set_index('Candidate', inplace=True)"
   ]
  },
  {
   "cell_type": "code",
   "execution_count": 45,
   "metadata": {},
   "outputs": [
    {
     "name": "stdout",
     "output_type": "stream",
     "text": [
      "<class 'pandas.core.frame.DataFrame'>\n",
      "Index: 801 entries, Anthony White (Alabama) to Shirley Love\n",
      "Data columns (total 16 columns):\n",
      "State                         801 non-null object\n",
      "District                      801 non-null object\n",
      "Office Type                   801 non-null object\n",
      "Race Type                     801 non-null object\n",
      "Race Primary Election Date    801 non-null datetime64[ns]\n",
      "Primary Status                801 non-null object\n",
      "Gender                        801 non-null object\n",
      "Partisan Lean                 801 non-null float64\n",
      "Primary %                     801 non-null float64\n",
      "Race                          798 non-null object\n",
      "Veteran?                      801 non-null object\n",
      "LGBTQ?                        801 non-null object\n",
      "Elected Official?             801 non-null object\n",
      "Self-Funder?                  801 non-null object\n",
      "STEM?                         801 non-null object\n",
      "Obama Alum?                   800 non-null object\n",
      "dtypes: datetime64[ns](1), float64(2), object(13)\n",
      "memory usage: 106.4+ KB\n"
     ]
    }
   ],
   "source": [
    "df_finalized.info()"
   ]
  },
  {
   "cell_type": "code",
   "execution_count": 46,
   "metadata": {},
   "outputs": [
    {
     "data": {
      "text/plain": [
       "238"
      ]
     },
     "execution_count": 46,
     "metadata": {},
     "output_type": "execute_result"
    }
   ],
   "source": [
    "# The number of districts that had a primary race\n",
    "df_finalized['District'].nunique()"
   ]
  },
  {
   "cell_type": "code",
   "execution_count": 47,
   "metadata": {},
   "outputs": [
    {
     "data": {
      "text/plain": [
       "36"
      ]
     },
     "execution_count": 47,
     "metadata": {},
     "output_type": "execute_result"
    }
   ],
   "source": [
    "# The number of states that had at least 1 primary race\n",
    "df_finalized['State'].nunique()"
   ]
  },
  {
   "cell_type": "code",
   "execution_count": 48,
   "metadata": {},
   "outputs": [
    {
     "data": {
      "text/plain": [
       "<matplotlib.axes._subplots.AxesSubplot at 0x2963c0f0a20>"
      ]
     },
     "execution_count": 48,
     "metadata": {},
     "output_type": "execute_result"
    },
    {
     "data": {
      "image/png": "[encoded data removed]",
      "text/plain": [
       "<matplotlib.figure.Figure at 0x2963c0f0b00>"
      ]
     },
     "metadata": {},
     "output_type": "display_data"
    }
   ],
   "source": [
    "df_finalized['District'].value_counts().hist()"
   ]
  },
  {
   "cell_type": "code",
   "execution_count": 49,
   "metadata": {},
   "outputs": [],
   "source": [
    "categorical_feats = ['Office Type', 'Race Type', 'Race Primary Election Date', \n",
    "                     'Gender', 'Race', 'Veteran?', 'LGBTQ?', 'Elected Official?',\n",
    "                     'Self-Funder?', 'STEM?', 'Obama Alum?']\n",
    "\n",
    "def categorize_features(df, cats):\n",
    "    df_cols = df.columns.tolist()\n",
    "    for cat in cats:\n",
    "        if cat in df_cols:\n",
    "            df[cat] = df[cat].astype('category')\n",
    "    return df"
   ]
  },
  {
   "cell_type": "code",
   "execution_count": 50,
   "metadata": {},
   "outputs": [],
   "source": [
    "df_finalized_cats = categorize_features(df_finalized, categorical_feats)"
   ]
  },
  {
   "cell_type": "code",
   "execution_count": 51,
   "metadata": {},
   "outputs": [
    {
     "name": "stdout",
     "output_type": "stream",
     "text": [
      "<class 'pandas.core.frame.DataFrame'>\n",
      "Index: 801 entries, Anthony White (Alabama) to Shirley Love\n",
      "Data columns (total 16 columns):\n",
      "State                         801 non-null object\n",
      "District                      801 non-null object\n",
      "Office Type                   801 non-null category\n",
      "Race Type                     801 non-null category\n",
      "Race Primary Election Date    801 non-null category\n",
      "Primary Status                801 non-null object\n",
      "Gender                        801 non-null category\n",
      "Partisan Lean                 801 non-null float64\n",
      "Primary %                     801 non-null float64\n",
      "Race                          798 non-null category\n",
      "Veteran?                      801 non-null category\n",
      "LGBTQ?                        801 non-null category\n",
      "Elected Official?             801 non-null category\n",
      "Self-Funder?                  801 non-null category\n",
      "STEM?                         801 non-null category\n",
      "Obama Alum?                   800 non-null category\n",
      "dtypes: category(11), float64(2), object(3)\n",
      "memory usage: 47.5+ KB\n"
     ]
    }
   ],
   "source": [
    "df_finalized_cats.info()"
   ]
  },
  {
   "cell_type": "markdown",
   "metadata": {},
   "source": [
    "From the info printout above, we see that all features except for 'State', 'District', and the output column 'Primary Status' (as well as the numerical features) have been converted to a categorical type, and the memory usage has dropped from 106.4 KB to 47.5 KB. I am considering dropping State and District as they would blow up the dimensionality of the model, although doing so would basically mean my model assumes that voters are the same everywhere, which flies in the face of the notion that \"all politics is local\". We'll see how the model performs under that assumption."
   ]
  },
  {
   "cell_type": "code",
   "execution_count": 52,
   "metadata": {},
   "outputs": [],
   "source": [
    "target = df_finalized['Primary Status']\n",
    "df_no_location = df_finalized.drop(['State','District', 'Primary Status'], axis=1).copy()"
   ]
  },
  {
   "cell_type": "code",
   "execution_count": 53,
   "metadata": {},
   "outputs": [
    {
     "name": "stdout",
     "output_type": "stream",
     "text": [
      "<class 'pandas.core.frame.DataFrame'>\n",
      "Index: 801 entries, Anthony White (Alabama) to Shirley Love\n",
      "Data columns (total 13 columns):\n",
      "Office Type                   801 non-null category\n",
      "Race Type                     801 non-null category\n",
      "Race Primary Election Date    801 non-null category\n",
      "Gender                        801 non-null category\n",
      "Partisan Lean                 801 non-null float64\n",
      "Primary %                     801 non-null float64\n",
      "Race                          798 non-null category\n",
      "Veteran?                      801 non-null category\n",
      "LGBTQ?                        801 non-null category\n",
      "Elected Official?             801 non-null category\n",
      "Self-Funder?                  801 non-null category\n",
      "STEM?                         801 non-null category\n",
      "Obama Alum?                   800 non-null category\n",
      "dtypes: category(11), float64(2)\n",
      "memory usage: 28.7+ KB\n"
     ]
    }
   ],
   "source": [
    "df_no_location.info()"
   ]
  },
  {
   "cell_type": "code",
   "execution_count": 54,
   "metadata": {},
   "outputs": [],
   "source": [
    "X_no_loc = pd.get_dummies(df_no_location, drop_first=True)"
   ]
  },
  {
   "cell_type": "code",
   "execution_count": 55,
   "metadata": {},
   "outputs": [
    {
     "name": "stdout",
     "output_type": "stream",
     "text": [
      "<class 'pandas.core.frame.DataFrame'>\n",
      "Index: 801 entries, Anthony White (Alabama) to Shirley Love\n",
      "Data columns (total 23 columns):\n",
      "Partisan Lean                                     801 non-null float64\n",
      "Primary %                                         801 non-null float64\n",
      "Office Type_Representative                        801 non-null uint8\n",
      "Office Type_Senator                               801 non-null uint8\n",
      "Race Type_Special                                 801 non-null uint8\n",
      "Race Primary Election Date_2018-03-06 00:00:00    801 non-null uint8\n",
      "Race Primary Election Date_2018-03-20 00:00:00    801 non-null uint8\n",
      "Race Primary Election Date_2018-05-08 00:00:00    801 non-null uint8\n",
      "Race Primary Election Date_2018-05-15 00:00:00    801 non-null uint8\n",
      "Race Primary Election Date_2018-05-22 00:00:00    801 non-null uint8\n",
      "Race Primary Election Date_2018-06-05 00:00:00    801 non-null uint8\n",
      "Race Primary Election Date_2018-06-12 00:00:00    801 non-null uint8\n",
      "Race Primary Election Date_2018-06-26 00:00:00    801 non-null uint8\n",
      "Race Primary Election Date_2018-08-02 00:00:00    801 non-null uint8\n",
      "Race Primary Election Date_2018-08-07 00:00:00    801 non-null uint8\n",
      "Gender_Male                                       801 non-null uint8\n",
      "Race_White                                        801 non-null uint8\n",
      "Veteran?_Yes                                      801 non-null uint8\n",
      "LGBTQ?_Yes                                        801 non-null uint8\n",
      "Elected Official?_Yes                             801 non-null uint8\n",
      "Self-Funder?_Yes                                  801 non-null uint8\n",
      "STEM?_Yes                                         801 non-null uint8\n",
      "Obama Alum?_Yes                                   801 non-null uint8\n",
      "dtypes: float64(2), uint8(21)\n",
      "memory usage: 35.2+ KB\n"
     ]
    }
   ],
   "source": [
    "X_no_loc.info()"
   ]
  },
  {
   "cell_type": "code",
   "execution_count": 4,
   "metadata": {},
   "outputs": [],
   "source": [
    "from sklearn.base import TransformerMixin\n",
    "\n",
    "class DataFrameImputer(TransformerMixin):\n",
    "\n",
    "    def __init__(self):\n",
    "        \"\"\"Impute missing values.\n",
    "\n",
    "        Columns of dtype object are imputed with the most frequent value \n",
    "        in column.\n",
    "\n",
    "        Columns of other types are imputed with mean of column.\n",
    "\n",
    "        \"\"\"\n",
    "    def fit(self, X, y=None):\n",
    "\n",
    "        self.fill = pd.Series([X[c].value_counts().index[0]\n",
    "            if X[c].dtype == np.dtype('O') else X[c].mean() for c in X],\n",
    "            index=X.columns)\n",
    "\n",
    "        return self\n",
    "\n",
    "    def transform(self, X, y=None):\n",
    "        return X.fillna(self.fill)"
   ]
  },
  {
   "cell_type": "code",
   "execution_count": null,
   "metadata": {},
   "outputs": [],
   "source": [
    "steps = [('imputer', DataFrameImputer(),\n",
    "         ('rf', RandomForestClassifier())]\n",
    "pipeline = Pipeline(steps)\n",
    "parameters = [{'rf__n_estimators':[200], \n",
    "               'rf__criterion': ['gini', 'entropy'], \n",
    "               'rf__max_features':[6,12], \n",
    "               'rf__max_depth': [2,5,8], \n",
    "               'rf__min_samples_leaf': [1,3]}]\n",
    "rf_gs = GridSearchCV(pipeline, parameters, cv=3, return_train_score=True, scoring='recall', n_jobs=-1, verbose=4)\n",
    "rf_gs.fit(X_no_loc, y_train.values.reshape((y_train.size,)))"
   ]
  },
  {
   "cell_type": "code",
   "execution_count": null,
   "metadata": {},
   "outputs": [],
   "source": []
  },
  {
   "cell_type": "code",
   "execution_count": null,
   "metadata": {},
   "outputs": [],
   "source": []
  },
  {
   "cell_type": "code",
   "execution_count": null,
   "metadata": {},
   "outputs": [],
   "source": []
  },
  {
   "cell_type": "code",
   "execution_count": null,
   "metadata": {},
   "outputs": [],
   "source": []
  },
  {
   "cell_type": "code",
   "execution_count": null,
   "metadata": {},
   "outputs": [],
   "source": []
  },
  {
   "cell_type": "code",
   "execution_count": null,
   "metadata": {},
   "outputs": [],
   "source": []
  }
 ],
 "metadata": {
  "kernelspec": {
   "display_name": "Python [conda env:py36]",
   "language": "python",
   "name": "conda-env-py36-py"
  },
  "language_info": {
   "codemirror_mode": {
    "name": "ipython",
    "version": 3
   },
   "file_extension": ".py",
   "mimetype": "text/x-python",
   "name": "python",
   "nbconvert_exporter": "python",
   "pygments_lexer": "ipython3",
   "version": "3.6.4"
  }
 },
 "nbformat": 4,
 "nbformat_minor": 2
}
